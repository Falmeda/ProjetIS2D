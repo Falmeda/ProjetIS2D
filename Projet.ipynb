{
 "cells": [
  {
   "cell_type": "markdown",
   "metadata": {},
   "source": [
    "<table>\n",
    "<tr>\n",
    "    <td width=10%><img src=\"./img/logo_lri.jpg\"></td>\n",
    "    <td width=30%><img src=\"./img/medi-chal_logo.png\" height=15%></img></td>\n",
    "</tr>\n",
    "\n",
    "</table>"
   ]
  },
  {
   "cell_type": "markdown",
   "metadata": {},
   "source": [
    "<br/><br/><div id=\"top\"></div>\n",
    "\n",
    "<center><a style=\"font-size: 40pt; font-weight: bold\">\n",
    "    Être ou ne pas être ?\n",
    "</a></center>\n",
    "<br/>\n",
    "<center><a style=\"font-size: 22pt; font-weight: bold\">\n",
    "    Un problème de classification binaire sur des données médicales artificelles\n",
    "<br/>\n",
    "\n",
    "---"
   ]
  },
  {
   "cell_type": "markdown",
   "metadata": {},
   "source": [
    "# Membres du groupe\n",
    "\n",
    "**Minimum 2, Maximum 3**"
   ]
  },
  {
   "cell_type": "markdown",
   "metadata": {},
   "source": [
    "<span style=\"color:red\">\n",
    "    Répondre ci-dessous\n",
    "</span>"
   ]
  },
  {
   "cell_type": "markdown",
   "metadata": {},
   "source": [
    "* Almeida de Oliveira, Frédéric\n",
    "* Manea, Théo\n",
    "* Seanz, Quentin"
   ]
  },
  {
   "cell_type": "markdown",
   "metadata": {},
   "source": [
    "# Présentation du challenge\n",
    "\n",
    "## La question principale de ce challenge est : \n",
    "\n",
    "* Comment prédire la survie d'un patient compte tenu de son dossier médical ? \n",
    "    \n",
    "* Plus précisément, vous devrez prédire la survie des patients pendant leur séjour à l'hôpital\n",
    " \n",
    "Chaque jour, le personnel soignant collecte de nombreuses informations sur les patients en posant des questions et en utilisant des outils de mesure (stéthoscope, analyse de sang, capteurs, etc.). Ces données sont très utiles pour surveiller l'état de santé, diagnostiquer et choisir les traitements.\n",
    "\n",
    "Elles peuvent également être utilisées pour l'analyse statistique prédictive."
   ]
  },
  {
   "cell_type": "markdown",
   "metadata": {},
   "source": [
    "## Données\n",
    "\n",
    "L'ensemble de données contient des informations sur 80'000 patients, représentés par des variables (descripteurs) catégorielles, binaires et numériques. Ces variables sont, par exemple, l'âge, le sexe, l'origine ethnique, l'état matrimonial, ainsi que des données médicales telles que la tension artérielle ou le taux de glucose. Il y a un total de 342 variables.\n",
    "\n",
    "La classe (étiquette ou label) à prédire est une variable binaire indiquant si le patient est décédé ou non pendant son séjour à l'hôpital. Heureusement, la plupart d'entre eux survivent :\n",
    "\n",
    "![](img/tobe.png)"
   ]
  },
  {
   "cell_type": "markdown",
   "metadata": {},
   "source": [
    "## Tâche\n",
    "\n",
    "La tâche consiste à créer un modèle capable d'apprendre à partir des données et de faire des prédictions (apprentissage supervisé). Chaque instance (patient) possède une variable indiquant si elle·il est décédé·e ou non pendant son séjour à l'hôpital.\n",
    "\n",
    "Références et crédit :\n",
    "\n",
    "Isabelle Guyon, Kristin Bennett, Andrew Yale, Adrien Pavao, Thomas Gerspacher"
   ]
  },
  {
   "cell_type": "markdown",
   "metadata": {},
   "source": [
    "## Instructions\n",
    "\n",
    "Le but de ce TP est de travailler sur un challenge de prédiction de la mortalité.\n",
    "\n",
    "Le lien vers le challenge :\n",
    "https://competitions.codalab.org/competitions/30715\n",
    "\n",
    "* **Étape 1 :** S'enregistrer sur https://competitions.codalab.org\n",
    "* **Étape 2:** Téléchargez le jeu de données à partir de la [page](https://competitions.codalab.org/competitions/30715#participate-get_starting_kit) \"Participate > Files > Public Data\". Placez le dossier \"public_data\" dans le même dossier que celui contenant ce notebook.\n",
    "* **Étape 3:** Parcourez ce notebook. Vous devrez lire, exécuter, **coder vos propres méthodes** et **répondre aux questions**. Utilisez la cellule ***code*** pour le codage et la cellule ***markdown*** pour répondre aux questions."
   ]
  },
  {
   "cell_type": "markdown",
   "metadata": {},
   "source": [
    "## Évaluation du projet\n",
    "\n",
    "* **4 points** pour la partie compréhension et analyse exploratoire\n",
    "    \n",
    "* **4 points** pour un code propre et bien documenté\n",
    "\n",
    "* **4 points** pour la qualité du modèle (sélection du modèle, sélection des hyperparamètres)\n",
    "\n",
    "* **4 points** pour une bonne évaluation des performances du modèle\n",
    "\n",
    "* **4 points** pour l'originalité et la complétude de la solution \n",
    "\n",
    "* **1 point bonus** pour l'équipe gagnante du challenge"
   ]
  },
  {
   "cell_type": "markdown",
   "metadata": {},
   "source": [
    "### FAQ\n",
    "\n",
    "* Soumettre uniquement le notebook sur eCampus\n",
    "\n",
    "* La partie texte (explications, résultats, problèmes, sans le code) ne doit pas dépasser 3 pages A4 11pt (< 1500 mots)"
   ]
  },
  {
   "cell_type": "markdown",
   "metadata": {},
   "source": [
    "# Challenge"
   ]
  },
  {
   "cell_type": "markdown",
   "metadata": {},
   "source": [
    "Module particulier requis : `imblearn` (à installer avec `conda` ou `pip`)\n",
    "\n",
    "* `conda install -c conda-forge imbalanced-learn`\n",
    "\n",
    "* `pip install imbalanced-learn`"
   ]
  },
  {
   "cell_type": "code",
   "execution_count": 1,
   "metadata": {},
   "outputs": [
    {
     "name": "stdout",
     "output_type": "stream",
     "text": [
      "Requirement already satisfied: imbalanced-learn in d:\\users\\fred8\\anaconda3\\lib\\site-packages (0.8.0)\n",
      "Requirement already satisfied: joblib>=0.11 in d:\\users\\fred8\\anaconda3\\lib\\site-packages (from imbalanced-learn) (0.16.0)\n",
      "Requirement already satisfied: scikit-learn>=0.24 in d:\\users\\fred8\\anaconda3\\lib\\site-packages (from imbalanced-learn) (0.24.1)\n",
      "Requirement already satisfied: scipy>=0.19.1 in d:\\users\\fred8\\anaconda3\\lib\\site-packages (from imbalanced-learn) (1.5.0)\n",
      "Requirement already satisfied: numpy>=1.13.3 in d:\\users\\fred8\\anaconda3\\lib\\site-packages (from imbalanced-learn) (1.18.5)\n",
      "Requirement already satisfied: threadpoolctl>=2.0.0 in d:\\users\\fred8\\anaconda3\\lib\\site-packages (from scikit-learn>=0.24->imbalanced-learn) (2.1.0)\n"
     ]
    }
   ],
   "source": [
    "!pip install imbalanced-learn\n",
    "from datetime import datetime\n",
    "from pathlib import Path\n",
    "from zipfile import ZipFile\n",
    "\n",
    "import imblearn\n",
    "import matplotlib\n",
    "import matplotlib.pyplot as plt\n",
    "import numpy as np\n",
    "import pandas as pd\n",
    "import seaborn as sns\n",
    "from sklearn import (\n",
    "    decomposition,               # - Réduction de dimensions\n",
    "    discriminant_analysis,       # - Classifier quadratique ou linéaire\n",
    "    ensemble,                    # - Combine les prédictions d'estimateurs de base créés selon un algorithme. 2 types:\n",
    "                                 #average = création de plusieurs estimateurs indépendants et moyenne des résultats (ex: bagging, forest,...)\n",
    "                                 #boosting = création séquencielle d'estimateurs, l'un essaye de réduire le taux d'erreur des autres (ex : AdaBoost, Gradient,...)\n",
    "    linear_model,                # - Models linéaires (regression linéaire, ridge, lasso, ...)\n",
    "    metrics,                     # - Calcul du score (accuracy, balanced_accuracy, ...)\n",
    "    model_selection,             # - Optimisation du modèle (hyperparamètres, cross_val_score, ...)\n",
    "    naive_bayes,                 # - Algorithmes d'apprentissage supervisé basés sur les théorèmes de Bayes (gaussien, multinomial,...)\n",
    "    pipeline,                    # - Création de l'estimateur (fin du projet)\n",
    "    preprocessing,               # - Modification du dataset pour avoir des données plus simples à utiliser par les modèles\n",
    "    svm,                         # - Modèles vectoriels\n",
    ")"
   ]
  },
  {
   "cell_type": "code",
   "execution_count": 2,
   "metadata": {},
   "outputs": [],
   "source": [
    "%reload_ext autoreload\n",
    "%autoreload 2\n",
    "\n",
    "%config InlineBackend.figure_format=\"retina\"  # For high DPI display\n",
    "\n",
    "# Set precision for pd and np (np: suppress also sci notation)\n",
    "np.set_printoptions(precision=3, suppress=True)\n",
    "pd.options.display.float_format = \"{:,.4g}\".format"
   ]
  },
  {
   "cell_type": "markdown",
   "metadata": {},
   "source": [
    "## 1. Compréhension du problème"
   ]
  },
  {
   "cell_type": "markdown",
   "metadata": {},
   "source": [
    "### Expliquez brièvement la tâche avec vos mots"
   ]
  },
  {
   "cell_type": "markdown",
   "metadata": {},
   "source": [
    "<span style=\"color:red\">\n",
    "    Répondre ci-dessous\n",
    "</span>"
   ]
  },
  {
   "cell_type": "markdown",
   "metadata": {},
   "source": [
    "Nous allons devoir créer un modèle capable de prédire la survavibiliré d'un patient en nous basant sur une base de données."
   ]
  },
  {
   "cell_type": "markdown",
   "metadata": {},
   "source": [
    "### Métrique utilisée\n",
    "\n",
    "Pourquoi la métrique utilisée ici est la [`sklearn.metrics.balanced_accuracy_score`](https://scikit-learn.org/stable/modules/generated/sklearn.metrics.balanced_accuracy_score.html) plutôt que simplement l'[`sklearn.metrics.accuracy_score`](https://scikit-learn.org/stable/modules/generated/sklearn.metrics.accuracy_score.html) ?"
   ]
  },
  {
   "cell_type": "markdown",
   "metadata": {},
   "source": [
    "<span style=\"color:red\">\n",
    "    Répondre ci-dessous\n",
    "</span>"
   ]
  },
  {
   "cell_type": "markdown",
   "metadata": {},
   "source": [
    "On utilise la métrique \"balanced accuracy\" car notre dataset n'est pas équilibré et la méthode \"accuracy\" est donc moins précise."
   ]
  },
  {
   "cell_type": "markdown",
   "metadata": {},
   "source": [
    "## 2. Chargement les données"
   ]
  },
  {
   "cell_type": "code",
   "execution_count": 3,
   "metadata": {},
   "outputs": [],
   "source": [
    "DATA = Path(\n",
    "    \"~\\Documents\\Cours\\L2\\S4\\ISD2\\Projet IS2D\\public_data\" # À modifier selon la personne\n",
    ").expanduser()\n",
    "\n",
    "# DATA = Path(\"public_data\")\n",
    "\n",
    "PRED_PATH = Path(\"Submissions\")\n",
    "\n",
    "DROP_VARS = [\"ADMITTIME\", \"DISCHTIME\", \"SUBJECT_ID\", \"HADM_ID\"]"
   ]
  },
  {
   "cell_type": "code",
   "execution_count": 4,
   "metadata": {},
   "outputs": [],
   "source": [
    "features = pd.read_csv(\n",
    "    DATA / \"mimic_synthetic_feat.name\", header=None\n",
    ").values.flatten()\n",
    "\n",
    "labels = pd.read_csv(\n",
    "    DATA / \"mimic_synthetic_label.name\", header=None\n",
    ").values.flatten()\n",
    "\n",
    "x_df = pd.read_csv(\n",
    "    DATA / \"mimic_synthetic_train.data\",\n",
    "    header=None,\n",
    "    names=features,\n",
    "    sep=\" \",\n",
    ")\n",
    "\n",
    "# Remove time related data that are not needed\n",
    "x_df.drop(columns=DROP_VARS, inplace=True)\n",
    "\n",
    "ys = pd.Series(\n",
    "    pd.read_csv(\n",
    "        DATA / \"mimic_synthetic_train.solution\",\n",
    "        header=None,\n",
    "        names=labels,\n",
    "        sep=\" \",\n",
    "    ).values.flatten()\n",
    ")"
   ]
  },
  {
   "cell_type": "code",
   "execution_count": 5,
   "metadata": {},
   "outputs": [
    {
     "data": {
      "text/html": [
       "<div>\n",
       "<style scoped>\n",
       "    .dataframe tbody tr th:only-of-type {\n",
       "        vertical-align: middle;\n",
       "    }\n",
       "\n",
       "    .dataframe tbody tr th {\n",
       "        vertical-align: top;\n",
       "    }\n",
       "\n",
       "    .dataframe thead th {\n",
       "        text-align: right;\n",
       "    }\n",
       "</style>\n",
       "<table border=\"1\" class=\"dataframe\">\n",
       "  <thead>\n",
       "    <tr style=\"text-align: right;\">\n",
       "      <th></th>\n",
       "      <th>INSURANCE</th>\n",
       "      <th>LANGUAGE</th>\n",
       "      <th>RELIGION</th>\n",
       "      <th>MARITAL_STATUS</th>\n",
       "      <th>ETHNICITY</th>\n",
       "      <th>GENDER</th>\n",
       "      <th>AGE</th>\n",
       "      <th>HR_MIN_DAY1</th>\n",
       "      <th>HR_MAX_DAY1</th>\n",
       "      <th>HR_MEAN_DAY1</th>\n",
       "      <th>...</th>\n",
       "      <th>Eyeinfectn</th>\n",
       "      <th>Othereyedx</th>\n",
       "      <th>Otitismedia</th>\n",
       "      <th>Dizziness</th>\n",
       "      <th>Othereardx</th>\n",
       "      <th>Othnervdx</th>\n",
       "      <th>Hrtvalvedx</th>\n",
       "      <th>Carditis</th>\n",
       "      <th>HTN</th>\n",
       "      <th>Htncomplicn</th>\n",
       "    </tr>\n",
       "  </thead>\n",
       "  <tbody>\n",
       "    <tr>\n",
       "      <th>0</th>\n",
       "      <td>Private</td>\n",
       "      <td>ENGL</td>\n",
       "      <td>CATHOLIC</td>\n",
       "      <td>DIVORCED</td>\n",
       "      <td>WHITE</td>\n",
       "      <td>F</td>\n",
       "      <td>21</td>\n",
       "      <td>57.21</td>\n",
       "      <td>108.7</td>\n",
       "      <td>70.84</td>\n",
       "      <td>...</td>\n",
       "      <td>0</td>\n",
       "      <td>0</td>\n",
       "      <td>0</td>\n",
       "      <td>0</td>\n",
       "      <td>0</td>\n",
       "      <td>0</td>\n",
       "      <td>0</td>\n",
       "      <td>0</td>\n",
       "      <td>0</td>\n",
       "      <td>0</td>\n",
       "    </tr>\n",
       "    <tr>\n",
       "      <th>1</th>\n",
       "      <td>Private</td>\n",
       "      <td>ENGL</td>\n",
       "      <td>UNOBTAINABLE</td>\n",
       "      <td>SINGLE</td>\n",
       "      <td>WHITE</td>\n",
       "      <td>M</td>\n",
       "      <td>39</td>\n",
       "      <td>79.33</td>\n",
       "      <td>121.1</td>\n",
       "      <td>96.92</td>\n",
       "      <td>...</td>\n",
       "      <td>0</td>\n",
       "      <td>0</td>\n",
       "      <td>0</td>\n",
       "      <td>0</td>\n",
       "      <td>0</td>\n",
       "      <td>0</td>\n",
       "      <td>0</td>\n",
       "      <td>0</td>\n",
       "      <td>0</td>\n",
       "      <td>1</td>\n",
       "    </tr>\n",
       "    <tr>\n",
       "      <th>2</th>\n",
       "      <td>Medicaid</td>\n",
       "      <td>SPAN</td>\n",
       "      <td>CATHOLIC</td>\n",
       "      <td>WIDOWED</td>\n",
       "      <td>OTHER</td>\n",
       "      <td>M</td>\n",
       "      <td>40</td>\n",
       "      <td>118.2</td>\n",
       "      <td>175.2</td>\n",
       "      <td>140.9</td>\n",
       "      <td>...</td>\n",
       "      <td>0</td>\n",
       "      <td>0</td>\n",
       "      <td>0</td>\n",
       "      <td>0</td>\n",
       "      <td>0</td>\n",
       "      <td>0</td>\n",
       "      <td>0</td>\n",
       "      <td>0</td>\n",
       "      <td>0</td>\n",
       "      <td>0</td>\n",
       "    </tr>\n",
       "  </tbody>\n",
       "</table>\n",
       "<p>3 rows × 337 columns</p>\n",
       "</div>"
      ],
      "text/plain": [
       "  INSURANCE LANGUAGE      RELIGION MARITAL_STATUS ETHNICITY GENDER  AGE  \\\n",
       "0   Private     ENGL      CATHOLIC       DIVORCED     WHITE      F   21   \n",
       "1   Private     ENGL  UNOBTAINABLE         SINGLE     WHITE      M   39   \n",
       "2  Medicaid     SPAN      CATHOLIC        WIDOWED     OTHER      M   40   \n",
       "\n",
       "   HR_MIN_DAY1  HR_MAX_DAY1  HR_MEAN_DAY1  ...  Eyeinfectn  Othereyedx  \\\n",
       "0        57.21        108.7         70.84  ...           0           0   \n",
       "1        79.33        121.1         96.92  ...           0           0   \n",
       "2        118.2        175.2         140.9  ...           0           0   \n",
       "\n",
       "   Otitismedia  Dizziness  Othereardx  Othnervdx  Hrtvalvedx  Carditis  HTN  \\\n",
       "0            0          0           0          0           0         0    0   \n",
       "1            0          0           0          0           0         0    0   \n",
       "2            0          0           0          0           0         0    0   \n",
       "\n",
       "   Htncomplicn  \n",
       "0            0  \n",
       "1            1  \n",
       "2            0  \n",
       "\n",
       "[3 rows x 337 columns]"
      ]
     },
     "execution_count": 5,
     "metadata": {},
     "output_type": "execute_result"
    }
   ],
   "source": [
    "x_df.head(3)"
   ]
  },
  {
   "cell_type": "markdown",
   "metadata": {},
   "source": [
    "C'est **l'ensemble d'entrainement**. Cela signifie que vous avez accès aux étiquettes et que vous pouvez l'utiliser comme vous le souhaitez pour préparer votre modèle.\n",
    "\n",
    "Plus tard, vous ferez en sorte que votre modèle tire des prédictions de **l'ensemble de test** afin de les télécharger sur Codalab et d'obtenir un score sur des données non-vues."
   ]
  },
  {
   "cell_type": "code",
   "execution_count": 6,
   "metadata": {},
   "outputs": [],
   "source": [
    "# Load testing set\n",
    "x_test_df = pd.read_csv(\n",
    "    DATA / \"mimic_synthetic_test.data\",\n",
    "    header=None,\n",
    "    names=features,\n",
    "    sep=\" \",\n",
    ")\n",
    "\n",
    "# Remove time related data that are not needed\n",
    "x_test_df.drop(columns=DROP_VARS, inplace=True)"
   ]
  },
  {
   "cell_type": "markdown",
   "metadata": {},
   "source": [
    "## 3. Analyse exploratoire"
   ]
  },
  {
   "cell_type": "markdown",
   "metadata": {},
   "source": [
    "#### Types des variables"
   ]
  },
  {
   "cell_type": "code",
   "execution_count": 7,
   "metadata": {},
   "outputs": [
    {
     "data": {
      "text/plain": [
       "Numerical      226\n",
       "Binary         107\n",
       "Categorical      8\n",
       "Name: 0, dtype: int64"
      ]
     },
     "execution_count": 7,
     "metadata": {},
     "output_type": "execute_result"
    }
   ],
   "source": [
    "types = pd.read_csv(DATA / \"mimic_synthetic_feat.type\", header=None).set_index(\n",
    "    features\n",
    ")[0]\n",
    "\n",
    "types.value_counts()"
   ]
  },
  {
   "cell_type": "markdown",
   "metadata": {},
   "source": [
    "#### Labels distribution"
   ]
  },
  {
   "cell_type": "code",
   "execution_count": 8,
   "metadata": {},
   "outputs": [
    {
     "data": {
      "text/plain": [
       "count     8e+04\n",
       "mean    0.03496\n",
       "std      0.1837\n",
       "min           0\n",
       "25%           0\n",
       "50%           0\n",
       "75%           0\n",
       "max           1\n",
       "dtype: float64"
      ]
     },
     "execution_count": 8,
     "metadata": {},
     "output_type": "execute_result"
    }
   ],
   "source": [
    "ys.describe()"
   ]
  },
  {
   "cell_type": "code",
   "execution_count": 9,
   "metadata": {},
   "outputs": [
    {
     "data": {
      "image/png": "[encoded data removed]",
      "text/plain": [
       "<Figure size 432x288 with 1 Axes>"
      ]
     },
     "metadata": {
      "image/png": {
       "height": 249,
       "width": 388
      },
      "needs_background": "light"
     },
     "output_type": "display_data"
    }
   ],
   "source": [
    "ys.hist(bins=2, grid=False, align=\"left\")\n",
    "plt.xticks([0, 0.5], [\"Survived\", \"Died\"])\n",
    "# plt.savefig(\"img/tobe.png\", dpi=300)\n",
    "plt.show()"
   ]
  },
  {
   "cell_type": "markdown",
   "metadata": {},
   "source": [
    "### Code : Produire les graphiques suivants\n",
    "\n",
    "* Diagrammes à barres de certaines variables catégorielles (par exemple \"LANGUAGE\", \"MARITAL_STATUS\")\n",
    "\n",
    "* Montrez la corrélation entre certaines variables et la variable cible y\n",
    "\n",
    "* Un autre graphique ou toute analyse exploratoire à laquelle vous pouvez penser"
   ]
  },
  {
   "cell_type": "markdown",
   "metadata": {},
   "source": [
    "Exemple"
   ]
  },
  {
   "cell_type": "code",
   "execution_count": 10,
   "metadata": {},
   "outputs": [
    {
     "data": {
      "image/png": "[encoded data removed]",
      "text/plain": [
       "<Figure size 432x288 with 1 Axes>"
      ]
     },
     "metadata": {
      "image/png": {
       "height": 302,
       "width": 397
      },
      "needs_background": "light"
     },
     "output_type": "display_data"
    }
   ],
   "source": [
    "x_marital_cnts = x_df[\"MARITAL_STATUS\"].value_counts()\n",
    "x_marital_cnts.plot.bar(rot=30)\n",
    "plt.show()"
   ]
  },
  {
   "cell_type": "markdown",
   "metadata": {},
   "source": [
    "<span style=\"color:red\">\n",
    "    Répondre ci-dessous\n",
    "</span>"
   ]
  },
  {
   "cell_type": "code",
   "execution_count": 11,
   "metadata": {},
   "outputs": [
    {
     "data": {
      "image/png": "[encoded data removed]",
      "text/plain": [
       "<Figure size 432x288 with 1 Axes>"
      ]
     },
     "metadata": {
      "image/png": {
       "height": 369,
       "width": 388
      },
      "needs_background": "light"
     },
     "output_type": "display_data"
    }
   ],
   "source": [
    "# Test pour la variable religion\n",
    "\n",
    "x_language_counts = x_df[\"RELIGION\"].value_counts()\n",
    "x_language_counts.plot.bar(rot=90)\n",
    "plt.show()"
   ]
  },
  {
   "cell_type": "markdown",
   "metadata": {},
   "source": [
    "#### Correlations"
   ]
  },
  {
   "cell_type": "code",
   "execution_count": 12,
   "metadata": {},
   "outputs": [
    {
     "data": {
      "text/plain": [
       "<matplotlib.axes._subplots.AxesSubplot at 0x159a0299730>"
      ]
     },
     "execution_count": 12,
     "metadata": {},
     "output_type": "execute_result"
    },
    {
     "data": {
      "image/png": "[encoded data removed]",
      "text/plain": [
       "<Figure size 576x360 with 1 Axes>"
      ]
     },
     "metadata": {
      "image/png": {
       "height": 302,
       "width": 625
      },
      "needs_background": "light"
     },
     "output_type": "display_data"
    }
   ],
   "source": [
    "# TODO: Bar plot of the most correlated variables with y\n",
    "\n",
    "# On définit age comme la valeur de référence\n",
    "age = x_df[\"AGE\"]\n",
    "\n",
    "# On définit ensuite les valeurs auxquelles nous allons la comparer\n",
    "hr_mean_day1 = x_df[\"HR_MEAN_DAY1\"]\n",
    "sys_bp_mean_day1 = x_df[\"SYS_BP_MEAN_DAY1\"]\n",
    "dias_bp_mean_day1 = x_df[\"DIAS_BP_MEAN_DAY1\"]\n",
    "mean_bp_mean_day1 = x_df[\"MEAN_BP_MEAN_DAY1\"]\n",
    "resp_rate_mean_day1 = x_df[\"RESP_RATE_MEAN_DAY1\"]\n",
    "temp_mean_day1 = x_df[\"TEMP_MEAN_DAY1\"]\n",
    "spo2_mean_day1 = x_df[\"SPO2_MEAN_DAY1\"]\n",
    "glucose_mean_day1 = x_df[\"GLUCOSE_MEAN_DAY1\"]\n",
    "\n",
    "# On calcule la corrélation entre age et les autre valeurs\n",
    "ahr = np.corrcoef(age, hr_mean_day1)\n",
    "asys = np.corrcoef(age, sys_bp_mean_day1)\n",
    "adias = np.corrcoef(age, dias_bp_mean_day1)\n",
    "amean = np.corrcoef(age, mean_bp_mean_day1)\n",
    "aresp = np.corrcoef(age, resp_rate_mean_day1)\n",
    "atemp = np.corrcoef(age, temp_mean_day1)\n",
    "aspo = np.corrcoef(age, spo2_mean_day1)\n",
    "aglucose = np.corrcoef(age, glucose_mean_day1)\n",
    "\n",
    "# On réalise le graphique correspondant\n",
    "graph = pd.DataFrame([[ahr[0][1]], [asys[0][1]], [adias[0][1]], [amean[0][1]], [aresp[0][1]], [atemp[0][1]],\n",
    "                        [aspo[0][1]], [aglucose[0][1]]],\n",
    "                    index=['Age vs HR_MEAN_DAY1', 'Age vs SYS_BP_MEAN_DAY1', 'Age vs DIAS_BP_MEAN_DAY1',\n",
    "                           'Age vs MEAN_BP_MEAN_DAY1', 'Age vs RESP_RATE_MEAN_DAY1', 'Age vs TEMP_MEAN_DAY1',\n",
    "                           'Age vs SPO2_MEAN_DAY1', 'Age vs GLUCOSE_MEAN_DAY1'],\n",
    "                    columns=['Corrélation'])\n",
    "graph.plot.barh(figsize=(8,5))\n"
   ]
  },
  {
   "cell_type": "markdown",
   "metadata": {},
   "source": [
    "Hint:\n",
    "\n",
    "* Utilisez un graphique avec des barres horizontales `barh` (pour visualiser les valeurs positives et négatives)"
   ]
  },
  {
   "cell_type": "markdown",
   "metadata": {},
   "source": [
    "<span style=\"color:red\">\n",
    "    Utiliser des cellules markdown pour ajouter des commentaires\n",
    "</span>"
   ]
  },
  {
   "cell_type": "markdown",
   "metadata": {},
   "source": [
    "On voit à l'aide de ce graphique la correlation entre l'age et les autres valeurs que nous avont selectionnées."
   ]
  },
  {
   "cell_type": "markdown",
   "metadata": {},
   "source": [
    "#### Autres graphiques"
   ]
  },
  {
   "cell_type": "code",
   "execution_count": 13,
   "metadata": {},
   "outputs": [
    {
     "data": {
      "text/plain": [
       "<matplotlib.collections.PathCollection at 0x159a02afaf0>"
      ]
     },
     "execution_count": 13,
     "metadata": {},
     "output_type": "execute_result"
    },
    {
     "data": {
      "image/png": "[encoded data removed]",
      "text/plain": [
       "<Figure size 432x288 with 1 Axes>"
      ]
     },
     "metadata": {
      "image/png": {
       "height": 248,
       "width": 368
      },
      "needs_background": "light"
     },
     "output_type": "display_data"
    }
   ],
   "source": [
    "# TODO: Add graph\n",
    "\n",
    "# On va faire regarder l'évolution de la température des patients entre le jour 1 et le jour 2\n",
    "\n",
    "temp1 = x_df[\"TEMP_MEAN_DAY1\"]\n",
    "temp2 = x_df[\"TEMP_MEAN_DAY2\"]\n",
    "\n",
    "plt.scatter(temp1,temp2, marker='+')"
   ]
  },
  {
   "cell_type": "markdown",
   "metadata": {},
   "source": [
    "<span style=\"color:red\">\n",
    "    Utiliser des cellules markdown pour ajouter des commentaires\n",
    "</span>"
   ]
  },
  {
   "cell_type": "markdown",
   "metadata": {},
   "source": [
    "On voit que les points de graphique se rapprochent de la fonction affine y=x, ce qui montre une faible variation de la température d'unjour à l'autre."
   ]
  },
  {
   "cell_type": "markdown",
   "metadata": {},
   "source": [
    "## 4. Pre-traitement"
   ]
  },
  {
   "cell_type": "markdown",
   "metadata": {},
   "source": [
    "### Code : Traitement du problème des valeurs manquantes (ou non-définies, NAN)"
   ]
  },
  {
   "cell_type": "markdown",
   "metadata": {},
   "source": [
    "#### Avant:\n",
    "La solution la plus simple est d'éliminer l'ensemble des colonnes où il y a des données manquantes, mais on perd de l'information. \n",
    "\n",
    "Notez qu'il faut supprimer l'union des colonnes en question pour l'ensemble d'entrainement et de test, afin de garder des dimensions cohérentes.\n",
    "\n",
    "#### Aprés:\n",
    "La solution la plus simple est d'éliminer l'ensemble des colonnes où il y a des données manquantes, mais on perd de l'information. \n",
    "\n",
    "Vu le faible nombre d'instances concernées (maximum 6 : voir ci-dessous) il parait plus pertinent de supprimer les lignes (instances) plutôt que les colonnes entières (variables).\n",
    "\n",
    "La solution que nous choisissons ici est une troisième, celle de remplacer les valeurs non définies par la valeur la plus probable de la variable. Comme ces valeurs manquantes concernent exclusivement des variables catégorielles et binaires, la valeur la plus probable est le *mode* (voir cours : `part-5-slides.pdf`)."
   ]
  },
  {
   "cell_type": "code",
   "execution_count": 14,
   "metadata": {},
   "outputs": [
    {
     "name": "stdout",
     "output_type": "stream",
     "text": [
      "(79999, 337) (20001, 337)\n"
     ]
    }
   ],
   "source": [
    "print(x_df.shape, x_test_df.shape)"
   ]
  },
  {
   "cell_type": "code",
   "execution_count": 15,
   "metadata": {},
   "outputs": [
    {
     "data": {
      "text/plain": [
       "LANGUAGE                              1\n",
       "MARITAL_STATUS                        1\n",
       "ICU                                   2\n",
       "ECodes:Adverseeffectsofmedicalcare    6\n",
       "Otnutritdx                            2\n",
       "Othnervdx                             1\n",
       "dtype: int64"
      ]
     },
     "execution_count": 15,
     "metadata": {},
     "output_type": "execute_result"
    }
   ],
   "source": [
    "x_nans = x_df.isna().sum()\n",
    "x_miss = x_nans[x_nans > 0]\n",
    "x_miss"
   ]
  },
  {
   "cell_type": "code",
   "execution_count": 16,
   "metadata": {
    "scrolled": true
   },
   "outputs": [
    {
     "data": {
      "text/plain": [
       "LANGUAGE                              2\n",
       "ECodes:Adverseeffectsofmedicalcare    3\n",
       "dtype: int64"
      ]
     },
     "execution_count": 16,
     "metadata": {},
     "output_type": "execute_result"
    }
   ],
   "source": [
    "x_test_nans = x_test_df.isna().sum()\n",
    "x_test_miss = x_test_nans[x_test_nans > 0]\n",
    "x_test_miss"
   ]
  },
  {
   "cell_type": "code",
   "execution_count": 17,
   "metadata": {},
   "outputs": [
    {
     "data": {
      "text/html": [
       "<div>\n",
       "<style scoped>\n",
       "    .dataframe tbody tr th:only-of-type {\n",
       "        vertical-align: middle;\n",
       "    }\n",
       "\n",
       "    .dataframe tbody tr th {\n",
       "        vertical-align: top;\n",
       "    }\n",
       "\n",
       "    .dataframe thead th {\n",
       "        text-align: right;\n",
       "    }\n",
       "</style>\n",
       "<table border=\"1\" class=\"dataframe\">\n",
       "  <thead>\n",
       "    <tr style=\"text-align: right;\">\n",
       "      <th></th>\n",
       "      <th>LANGUAGE</th>\n",
       "      <th>MARITAL_STATUS</th>\n",
       "      <th>ICU</th>\n",
       "      <th>ECodes:Adverseeffectsofmedicalcare</th>\n",
       "      <th>Otnutritdx</th>\n",
       "      <th>Othnervdx</th>\n",
       "    </tr>\n",
       "  </thead>\n",
       "  <tbody>\n",
       "    <tr>\n",
       "      <th>2251</th>\n",
       "      <td>ENGL</td>\n",
       "      <td>MARRIED</td>\n",
       "      <td>MICU</td>\n",
       "      <td>nan</td>\n",
       "      <td>0</td>\n",
       "      <td>0</td>\n",
       "    </tr>\n",
       "    <tr>\n",
       "      <th>9983</th>\n",
       "      <td>ENGL</td>\n",
       "      <td>MARRIED</td>\n",
       "      <td>MICU</td>\n",
       "      <td>0</td>\n",
       "      <td>nan</td>\n",
       "      <td>0</td>\n",
       "    </tr>\n",
       "    <tr>\n",
       "      <th>10549</th>\n",
       "      <td>ENGL</td>\n",
       "      <td>MARRIED</td>\n",
       "      <td>MICU</td>\n",
       "      <td>0</td>\n",
       "      <td>nan</td>\n",
       "      <td>0</td>\n",
       "    </tr>\n",
       "    <tr>\n",
       "      <th>10831</th>\n",
       "      <td>ENGL</td>\n",
       "      <td>MARRIED</td>\n",
       "      <td>MICU</td>\n",
       "      <td>nan</td>\n",
       "      <td>1</td>\n",
       "      <td>0</td>\n",
       "    </tr>\n",
       "    <tr>\n",
       "      <th>17012</th>\n",
       "      <td>ENGL</td>\n",
       "      <td>MARRIED</td>\n",
       "      <td>CSRU</td>\n",
       "      <td>nan</td>\n",
       "      <td>0</td>\n",
       "      <td>1</td>\n",
       "    </tr>\n",
       "    <tr>\n",
       "      <th>23088</th>\n",
       "      <td>ENGL</td>\n",
       "      <td>MARRIED</td>\n",
       "      <td>NaN</td>\n",
       "      <td>0</td>\n",
       "      <td>0</td>\n",
       "      <td>0</td>\n",
       "    </tr>\n",
       "    <tr>\n",
       "      <th>32539</th>\n",
       "      <td>ENGL</td>\n",
       "      <td>NaN</td>\n",
       "      <td>CSRU</td>\n",
       "      <td>0</td>\n",
       "      <td>0</td>\n",
       "      <td>0</td>\n",
       "    </tr>\n",
       "    <tr>\n",
       "      <th>42762</th>\n",
       "      <td>ENGL</td>\n",
       "      <td>SINGLE</td>\n",
       "      <td>TSICU</td>\n",
       "      <td>nan</td>\n",
       "      <td>0</td>\n",
       "      <td>0</td>\n",
       "    </tr>\n",
       "    <tr>\n",
       "      <th>53191</th>\n",
       "      <td>NaN</td>\n",
       "      <td>MARRIED</td>\n",
       "      <td>MICU</td>\n",
       "      <td>0</td>\n",
       "      <td>0</td>\n",
       "      <td>0</td>\n",
       "    </tr>\n",
       "    <tr>\n",
       "      <th>53390</th>\n",
       "      <td>CAPE</td>\n",
       "      <td>MARRIED</td>\n",
       "      <td>NaN</td>\n",
       "      <td>0</td>\n",
       "      <td>0</td>\n",
       "      <td>0</td>\n",
       "    </tr>\n",
       "    <tr>\n",
       "      <th>56772</th>\n",
       "      <td>ENGL</td>\n",
       "      <td>MARRIED</td>\n",
       "      <td>CSRU</td>\n",
       "      <td>nan</td>\n",
       "      <td>0</td>\n",
       "      <td>0</td>\n",
       "    </tr>\n",
       "    <tr>\n",
       "      <th>61852</th>\n",
       "      <td>ENGL</td>\n",
       "      <td>MARRIED</td>\n",
       "      <td>SICU</td>\n",
       "      <td>nan</td>\n",
       "      <td>0</td>\n",
       "      <td>0</td>\n",
       "    </tr>\n",
       "    <tr>\n",
       "      <th>71511</th>\n",
       "      <td>ENGL</td>\n",
       "      <td>MARRIED</td>\n",
       "      <td>TSICU</td>\n",
       "      <td>0</td>\n",
       "      <td>0</td>\n",
       "      <td>nan</td>\n",
       "    </tr>\n",
       "  </tbody>\n",
       "</table>\n",
       "</div>"
      ],
      "text/plain": [
       "      LANGUAGE MARITAL_STATUS    ICU  ECodes:Adverseeffectsofmedicalcare  \\\n",
       "2251      ENGL        MARRIED   MICU                                 nan   \n",
       "9983      ENGL        MARRIED   MICU                                   0   \n",
       "10549     ENGL        MARRIED   MICU                                   0   \n",
       "10831     ENGL        MARRIED   MICU                                 nan   \n",
       "17012     ENGL        MARRIED   CSRU                                 nan   \n",
       "23088     ENGL        MARRIED    NaN                                   0   \n",
       "32539     ENGL            NaN   CSRU                                   0   \n",
       "42762     ENGL         SINGLE  TSICU                                 nan   \n",
       "53191      NaN        MARRIED   MICU                                   0   \n",
       "53390     CAPE        MARRIED    NaN                                   0   \n",
       "56772     ENGL        MARRIED   CSRU                                 nan   \n",
       "61852     ENGL        MARRIED   SICU                                 nan   \n",
       "71511     ENGL        MARRIED  TSICU                                   0   \n",
       "\n",
       "       Otnutritdx  Othnervdx  \n",
       "2251            0          0  \n",
       "9983          nan          0  \n",
       "10549         nan          0  \n",
       "10831           1          0  \n",
       "17012           0          1  \n",
       "23088           0          0  \n",
       "32539           0          0  \n",
       "42762           0          0  \n",
       "53191           0          0  \n",
       "53390           0          0  \n",
       "56772           0          0  \n",
       "61852           0          0  \n",
       "71511           0        nan  "
      ]
     },
     "execution_count": 17,
     "metadata": {},
     "output_type": "execute_result"
    }
   ],
   "source": [
    "x_miss_rows = x_df.isna().any(axis=\"columns\")\n",
    "\n",
    "x_df.loc[x_miss_rows, x_miss.index]"
   ]
  },
  {
   "cell_type": "markdown",
   "metadata": {},
   "source": [
    "#### Remplacement des NAN"
   ]
  },
  {
   "cell_type": "code",
   "execution_count": 18,
   "metadata": {},
   "outputs": [],
   "source": [
    "na_cols = set(x_miss.index) | set(x_test_miss.index)\n",
    "\n",
    "for col in na_cols:\n",
    "    x_df[col].fillna(x_df[col].mode()[0], inplace=True)\n",
    "    x_test_df[col].fillna(x_test_df[col].mode()[0], inplace=True)"
   ]
  },
  {
   "cell_type": "code",
   "execution_count": 19,
   "metadata": {},
   "outputs": [
    {
     "name": "stdout",
     "output_type": "stream",
     "text": [
      "False False\n"
     ]
    }
   ],
   "source": [
    "print(x_df.isna().any().any(), x_test_df.isna().any().any())"
   ]
  },
  {
   "cell_type": "code",
   "execution_count": 20,
   "metadata": {},
   "outputs": [
    {
     "name": "stdout",
     "output_type": "stream",
     "text": [
      "(79999, 337) (20001, 337)\n"
     ]
    }
   ],
   "source": [
    "print(x_df.shape, x_test_df.shape)"
   ]
  },
  {
   "cell_type": "markdown",
   "metadata": {},
   "source": [
    "#### Les cellules suivantes en commentaire sont la résolution de la version précédente du sujet (cf 'Avant')"
   ]
  },
  {
   "cell_type": "code",
   "execution_count": 21,
   "metadata": {},
   "outputs": [
    {
     "data": {
      "text/plain": [
       "'na_cols = set(x_df.columns[x_df.isna().any()]) | set(\\n    x_test_df.columns[x_test_df.isna().any()]\\n)\\nna_cols'"
      ]
     },
     "execution_count": 21,
     "metadata": {},
     "output_type": "execute_result"
    }
   ],
   "source": [
    "'''na_cols = set(x_df.columns[x_df.isna().any()]) | set(\n",
    "    x_test_df.columns[x_test_df.isna().any()]\n",
    ")\n",
    "na_cols'''"
   ]
  },
  {
   "cell_type": "code",
   "execution_count": 22,
   "metadata": {},
   "outputs": [
    {
     "data": {
      "text/plain": [
       "'x_df.drop(columns=na_cols, inplace=True)\\nx_test_df.drop(columns=na_cols, inplace=True)'"
      ]
     },
     "execution_count": 22,
     "metadata": {},
     "output_type": "execute_result"
    }
   ],
   "source": [
    "'''x_df.drop(columns=na_cols, inplace=True)\n",
    "x_test_df.drop(columns=na_cols, inplace=True)'''"
   ]
  },
  {
   "cell_type": "code",
   "execution_count": 23,
   "metadata": {},
   "outputs": [
    {
     "data": {
      "text/plain": [
       "'print(x_df.isna().any().any(), x_test_df.isna().any().any())'"
      ]
     },
     "execution_count": 23,
     "metadata": {},
     "output_type": "execute_result"
    }
   ],
   "source": [
    "'''print(x_df.isna().any().any(), x_test_df.isna().any().any())'''"
   ]
  },
  {
   "cell_type": "code",
   "execution_count": 24,
   "metadata": {},
   "outputs": [
    {
     "data": {
      "text/plain": [
       "'print(x_df.shape, x_test_df.shape)'"
      ]
     },
     "execution_count": 24,
     "metadata": {},
     "output_type": "execute_result"
    }
   ],
   "source": [
    "'''print(x_df.shape, x_test_df.shape)'''"
   ]
  },
  {
   "cell_type": "code",
   "execution_count": 25,
   "metadata": {},
   "outputs": [
    {
     "data": {
      "text/plain": [
       "\"Proposez d'autre(s) stratégie(s) pour traiter le problème des NAN.\""
      ]
     },
     "execution_count": 25,
     "metadata": {},
     "output_type": "execute_result"
    }
   ],
   "source": [
    "'''Proposez d'autre(s) stratégie(s) pour traiter le problème des NAN.'''"
   ]
  },
  {
   "cell_type": "code",
   "execution_count": 26,
   "metadata": {},
   "outputs": [
    {
     "data": {
      "text/plain": [
       "'Répondre ci-dessous'"
      ]
     },
     "execution_count": 26,
     "metadata": {},
     "output_type": "execute_result"
    }
   ],
   "source": [
    "'''Répondre ci-dessous'''"
   ]
  },
  {
   "cell_type": "code",
   "execution_count": 27,
   "metadata": {},
   "outputs": [
    {
     "data": {
      "text/plain": [
       "'# TODO: other handling of NAN to replace the preciding column drop\\n\\n# On décide de remplacer les valeurs non définies par le valeur la plus présente dans la catégorie\\n\\n#----------------------------------------------#\\n\\n# On initialise x_df et x_test_df\\n\\nx_df = pd.read_csv(\\n    DATA / \"mimic_synthetic_train.data\",\\n    header=None,\\n    names=features,\\n    sep=\" \",\\n)\\nx_df.drop(columns=DROP_VARS, inplace=True)\\n\\nx_test_df = pd.read_csv(\\n    DATA / \"mimic_synthetic_test.data\",\\n    header=None,\\n    names=features,\\n    sep=\" \",\\n)\\nx_test_df.drop(columns=DROP_VARS, inplace=True)\\n\\n#----------------------------------------------#\\n\\n# On cherche en suite les colonnes pour lesquelles il manque des valeurs et combien il en manque\\n\\nx_nans = x_df.isna().sum()\\nx_miss = x_nans[x_nans > 0]\\nx_test_nans = x_test_df.isna().sum()\\nx_test_miss = x_test_nans[x_test_nans > 0]\\n\\nx_df_miss_columns = x_df.columns[x_df.isna().any()]\\nx_test_miss_columns = x_test_df.columns[x_test_df.isna().any()]\\n\\n#----------------------------------------------#\\n\\n# On calcule la valeur la plus présente dans chaque catégorie et on remplace la valeur manquante par cette dernière\\n\\nmost_present_value_test_df = x_test_df[x_test_miss_columns[0]].value_counts().idxmax()\\nmost_present_value_df = x_df[x_df_miss_columns[0]].value_counts().idxmax()\\n\\n# Remplacement pour x_test_df\\nfor i in range (len(x_test_miss_columns)):\\n    x_test_df[x_test_miss_columns[i]] = x_test_df[x_test_miss_columns[i]].fillna(0)\\n    x_test_df[x_test_miss_columns[i]] = x_test_df[x_test_miss_columns[i]].replace([0], most_present_value_test_df)\\n\\n# Remplacement pour x_df\\nfor i in range (len(x_df_miss_columns)):\\n    x_df[x_df_miss_columns[i]] = x_df[x_df_miss_columns[i]].fillna(0)\\n    x_df[x_df_miss_columns[i]] = x_df[x_df_miss_columns[i]].replace([0], most_present_value_df)\\n\\n#----------------------------------------------#\\n\\nprint(x_df.shape, x_test_df.shape)'"
      ]
     },
     "execution_count": 27,
     "metadata": {},
     "output_type": "execute_result"
    }
   ],
   "source": [
    "'''# TODO: other handling of NAN to replace the preciding column drop\n",
    "\n",
    "# On décide de remplacer les valeurs non définies par le valeur la plus présente dans la catégorie\n",
    "\n",
    "#----------------------------------------------#\n",
    "\n",
    "# On initialise x_df et x_test_df\n",
    "\n",
    "x_df = pd.read_csv(\n",
    "    DATA / \"mimic_synthetic_train.data\",\n",
    "    header=None,\n",
    "    names=features,\n",
    "    sep=\" \",\n",
    ")\n",
    "x_df.drop(columns=DROP_VARS, inplace=True)\n",
    "\n",
    "x_test_df = pd.read_csv(\n",
    "    DATA / \"mimic_synthetic_test.data\",\n",
    "    header=None,\n",
    "    names=features,\n",
    "    sep=\" \",\n",
    ")\n",
    "x_test_df.drop(columns=DROP_VARS, inplace=True)\n",
    "\n",
    "#----------------------------------------------#\n",
    "\n",
    "# On cherche en suite les colonnes pour lesquelles il manque des valeurs et combien il en manque\n",
    "\n",
    "x_nans = x_df.isna().sum()\n",
    "x_miss = x_nans[x_nans > 0]\n",
    "x_test_nans = x_test_df.isna().sum()\n",
    "x_test_miss = x_test_nans[x_test_nans > 0]\n",
    "\n",
    "x_df_miss_columns = x_df.columns[x_df.isna().any()]\n",
    "x_test_miss_columns = x_test_df.columns[x_test_df.isna().any()]\n",
    "\n",
    "#----------------------------------------------#\n",
    "\n",
    "# On calcule la valeur la plus présente dans chaque catégorie et on remplace la valeur manquante par cette dernière\n",
    "\n",
    "most_present_value_test_df = x_test_df[x_test_miss_columns[0]].value_counts().idxmax()\n",
    "most_present_value_df = x_df[x_df_miss_columns[0]].value_counts().idxmax()\n",
    "\n",
    "# Remplacement pour x_test_df\n",
    "for i in range (len(x_test_miss_columns)):\n",
    "    x_test_df[x_test_miss_columns[i]] = x_test_df[x_test_miss_columns[i]].fillna(0)\n",
    "    x_test_df[x_test_miss_columns[i]] = x_test_df[x_test_miss_columns[i]].replace([0], most_present_value_test_df)\n",
    "\n",
    "# Remplacement pour x_df\n",
    "for i in range (len(x_df_miss_columns)):\n",
    "    x_df[x_df_miss_columns[i]] = x_df[x_df_miss_columns[i]].fillna(0)\n",
    "    x_df[x_df_miss_columns[i]] = x_df[x_df_miss_columns[i]].replace([0], most_present_value_df)\n",
    "\n",
    "#----------------------------------------------#\n",
    "\n",
    "print(x_df.shape, x_test_df.shape)'''"
   ]
  },
  {
   "cell_type": "markdown",
   "metadata": {},
   "source": [
    "### Domain Expertise"
   ]
  },
  {
   "cell_type": "markdown",
   "metadata": {},
   "source": [
    "Simplifier les données pour notamment regrouper les catégories rares."
   ]
  },
  {
   "cell_type": "code",
   "execution_count": 28,
   "metadata": {},
   "outputs": [
    {
     "name": "stdout",
     "output_type": "stream",
     "text": [
      "Index(['CATHOLIC', 'NOT_SPECIFIED', 'UNOBTAINABLE', 'PROTESTANT_QUAKER',\n",
      "       'JEWISH'],\n",
      "      dtype='object')\n",
      "CATHOLIC             7517\n",
      "NOT_SPECIFIED        3764\n",
      "OTHER                2449\n",
      "UNOBTAINABLE         2208\n",
      "PROTESTANT_QUAKER    2208\n",
      "JEWISH               1855\n",
      "Name: RELIGION, dtype: int64\n"
     ]
    }
   ],
   "source": [
    "def merge_rare_categories(dfs, col, keeps=None, keep_n=5):\n",
    "    if keeps is None:\n",
    "        keeps = x_df[col].value_counts()[:keep_n].index\n",
    "        print(keeps)\n",
    "\n",
    "    for df in dfs:\n",
    "        df.loc[~df[col].isin(keeps), col] = \"OTHER\"\n",
    "\n",
    "\n",
    "merge_rare_categories([x_df, x_test_df], col=\"RELIGION\", keep_n=5)\n",
    "print(x_test_df[\"RELIGION\"].value_counts())"
   ]
  },
  {
   "cell_type": "markdown",
   "metadata": {},
   "source": [
    "#### Code : Effectuez des regrouppements de catégories rares pour d'autres variables si vous le jugez nécessaire"
   ]
  },
  {
   "cell_type": "markdown",
   "metadata": {},
   "source": [
    "<span style=\"color:red\">\n",
    "    Répondre ci-dessous\n",
    "</span>"
   ]
  },
  {
   "cell_type": "code",
   "execution_count": 29,
   "metadata": {},
   "outputs": [
    {
     "name": "stdout",
     "output_type": "stream",
     "text": [
      "Index(['WHITE', 'UNKNOWN/NOT_SPECIFIED', 'BLACK/AFRICAN_AMERICAN'], dtype='object')\n",
      "Index(['Medicare', 'Private', 'Medicaid'], dtype='object')\n"
     ]
    }
   ],
   "source": [
    "# TODO: Other application of merge_rare_categories\n",
    "\n",
    "merge_rare_categories([x_df, x_test_df], col=\"ETHNICITY\", keep_n=3)\n",
    "merge_rare_categories([x_df, x_test_df], col=\"INSURANCE\", keep_n=3)"
   ]
  },
  {
   "cell_type": "markdown",
   "metadata": {},
   "source": [
    "### Transformation des données catégorielles en nombres entiers en utilisant deux type d'encodage\n",
    "\n",
    "Les variables catégorielles sont présentées sous forme de chaines de caractères. La plupart des modèles ne pourront pas les prendre en entrée.\n",
    "\n",
    "#### Encodage numérique simple\n",
    "\n",
    "Deux des méthodes les plus simples sont `LabelEncoder` de Scikit-Learn et `factorize` de pandas. Elles consistent simplement à remplacer chaque nouvelle catégorie rencontrée par un entier, en commençant par 0. Ce n'est cependant peut-être pas la méthode la plus efficace, car elle présuppose une proximité entre la catégories de valeurs proches."
   ]
  },
  {
   "cell_type": "code",
   "execution_count": 30,
   "metadata": {},
   "outputs": [],
   "source": [
    "def label_encode(df, other_df, only_binary=False):\n",
    "\n",
    "    char_cols = df.dtypes.pipe(lambda x: x[x == \"object\"]).index\n",
    "    # print(char_cols)\n",
    "\n",
    "    for col in char_cols:\n",
    "        n_categories = len(x_df[col].unique())\n",
    "\n",
    "        if not only_binary or n_categories == 2:\n",
    "            codes, uniques = pd.factorize(df[col])\n",
    "            df[col] = codes\n",
    "\n",
    "            # Create conversion dic to convert values of test set as well\n",
    "            cat2code = {k: v for v, k in enumerate(uniques)}\n",
    "            other_df[col] = other_df[col].map(cat2code)"
   ]
  },
  {
   "cell_type": "code",
   "execution_count": 31,
   "metadata": {},
   "outputs": [
    {
     "data": {
      "text/html": [
       "<div>\n",
       "<style scoped>\n",
       "    .dataframe tbody tr th:only-of-type {\n",
       "        vertical-align: middle;\n",
       "    }\n",
       "\n",
       "    .dataframe tbody tr th {\n",
       "        vertical-align: top;\n",
       "    }\n",
       "\n",
       "    .dataframe thead th {\n",
       "        text-align: right;\n",
       "    }\n",
       "</style>\n",
       "<table border=\"1\" class=\"dataframe\">\n",
       "  <thead>\n",
       "    <tr style=\"text-align: right;\">\n",
       "      <th></th>\n",
       "      <th>INSURANCE</th>\n",
       "      <th>LANGUAGE</th>\n",
       "      <th>RELIGION</th>\n",
       "      <th>MARITAL_STATUS</th>\n",
       "      <th>ETHNICITY</th>\n",
       "      <th>GENDER</th>\n",
       "      <th>AGE</th>\n",
       "      <th>HR_MIN_DAY1</th>\n",
       "      <th>HR_MAX_DAY1</th>\n",
       "      <th>HR_MEAN_DAY1</th>\n",
       "      <th>...</th>\n",
       "      <th>Eyeinfectn</th>\n",
       "      <th>Othereyedx</th>\n",
       "      <th>Otitismedia</th>\n",
       "      <th>Dizziness</th>\n",
       "      <th>Othereardx</th>\n",
       "      <th>Othnervdx</th>\n",
       "      <th>Hrtvalvedx</th>\n",
       "      <th>Carditis</th>\n",
       "      <th>HTN</th>\n",
       "      <th>Htncomplicn</th>\n",
       "    </tr>\n",
       "  </thead>\n",
       "  <tbody>\n",
       "    <tr>\n",
       "      <th>0</th>\n",
       "      <td>Private</td>\n",
       "      <td>ENGL</td>\n",
       "      <td>CATHOLIC</td>\n",
       "      <td>DIVORCED</td>\n",
       "      <td>WHITE</td>\n",
       "      <td>F</td>\n",
       "      <td>21</td>\n",
       "      <td>57.21</td>\n",
       "      <td>108.7</td>\n",
       "      <td>70.84</td>\n",
       "      <td>...</td>\n",
       "      <td>0</td>\n",
       "      <td>0</td>\n",
       "      <td>0</td>\n",
       "      <td>0</td>\n",
       "      <td>0</td>\n",
       "      <td>0</td>\n",
       "      <td>0</td>\n",
       "      <td>0</td>\n",
       "      <td>0</td>\n",
       "      <td>0</td>\n",
       "    </tr>\n",
       "    <tr>\n",
       "      <th>1</th>\n",
       "      <td>Private</td>\n",
       "      <td>ENGL</td>\n",
       "      <td>UNOBTAINABLE</td>\n",
       "      <td>SINGLE</td>\n",
       "      <td>WHITE</td>\n",
       "      <td>M</td>\n",
       "      <td>39</td>\n",
       "      <td>79.33</td>\n",
       "      <td>121.1</td>\n",
       "      <td>96.92</td>\n",
       "      <td>...</td>\n",
       "      <td>0</td>\n",
       "      <td>0</td>\n",
       "      <td>0</td>\n",
       "      <td>0</td>\n",
       "      <td>0</td>\n",
       "      <td>0</td>\n",
       "      <td>0</td>\n",
       "      <td>0</td>\n",
       "      <td>0</td>\n",
       "      <td>1</td>\n",
       "    </tr>\n",
       "    <tr>\n",
       "      <th>2</th>\n",
       "      <td>Medicaid</td>\n",
       "      <td>SPAN</td>\n",
       "      <td>CATHOLIC</td>\n",
       "      <td>WIDOWED</td>\n",
       "      <td>OTHER</td>\n",
       "      <td>M</td>\n",
       "      <td>40</td>\n",
       "      <td>118.2</td>\n",
       "      <td>175.2</td>\n",
       "      <td>140.9</td>\n",
       "      <td>...</td>\n",
       "      <td>0</td>\n",
       "      <td>0</td>\n",
       "      <td>0</td>\n",
       "      <td>0</td>\n",
       "      <td>0</td>\n",
       "      <td>0</td>\n",
       "      <td>0</td>\n",
       "      <td>0</td>\n",
       "      <td>0</td>\n",
       "      <td>0</td>\n",
       "    </tr>\n",
       "  </tbody>\n",
       "</table>\n",
       "<p>3 rows × 337 columns</p>\n",
       "</div>"
      ],
      "text/plain": [
       "  INSURANCE LANGUAGE      RELIGION MARITAL_STATUS ETHNICITY GENDER  AGE  \\\n",
       "0   Private     ENGL      CATHOLIC       DIVORCED     WHITE      F   21   \n",
       "1   Private     ENGL  UNOBTAINABLE         SINGLE     WHITE      M   39   \n",
       "2  Medicaid     SPAN      CATHOLIC        WIDOWED     OTHER      M   40   \n",
       "\n",
       "   HR_MIN_DAY1  HR_MAX_DAY1  HR_MEAN_DAY1  ...  Eyeinfectn  Othereyedx  \\\n",
       "0        57.21        108.7         70.84  ...           0           0   \n",
       "1        79.33        121.1         96.92  ...           0           0   \n",
       "2        118.2        175.2         140.9  ...           0           0   \n",
       "\n",
       "   Otitismedia  Dizziness  Othereardx  Othnervdx  Hrtvalvedx  Carditis  HTN  \\\n",
       "0            0          0           0          0           0         0    0   \n",
       "1            0          0           0          0           0         0    0   \n",
       "2            0          0           0          0           0         0    0   \n",
       "\n",
       "   Htncomplicn  \n",
       "0            0  \n",
       "1            1  \n",
       "2            0  \n",
       "\n",
       "[3 rows x 337 columns]"
      ]
     },
     "execution_count": 31,
     "metadata": {},
     "output_type": "execute_result"
    }
   ],
   "source": [
    "x_df.head(3)"
   ]
  },
  {
   "cell_type": "code",
   "execution_count": 32,
   "metadata": {},
   "outputs": [
    {
     "name": "stdout",
     "output_type": "stream",
     "text": [
      "(79999, 337) (79999,)\n"
     ]
    }
   ],
   "source": [
    "print(x_df.shape, ys.shape)"
   ]
  },
  {
   "cell_type": "code",
   "execution_count": 33,
   "metadata": {},
   "outputs": [],
   "source": [
    "x_fact_df = x_df.copy()\n",
    "x_test_fact_df = x_test_df.copy()\n",
    "\n",
    "label_encode(x_fact_df, x_test_fact_df)"
   ]
  },
  {
   "cell_type": "code",
   "execution_count": 34,
   "metadata": {},
   "outputs": [
    {
     "data": {
      "text/html": [
       "<div>\n",
       "<style scoped>\n",
       "    .dataframe tbody tr th:only-of-type {\n",
       "        vertical-align: middle;\n",
       "    }\n",
       "\n",
       "    .dataframe tbody tr th {\n",
       "        vertical-align: top;\n",
       "    }\n",
       "\n",
       "    .dataframe thead th {\n",
       "        text-align: right;\n",
       "    }\n",
       "</style>\n",
       "<table border=\"1\" class=\"dataframe\">\n",
       "  <thead>\n",
       "    <tr style=\"text-align: right;\">\n",
       "      <th></th>\n",
       "      <th>INSURANCE</th>\n",
       "      <th>LANGUAGE</th>\n",
       "      <th>RELIGION</th>\n",
       "      <th>MARITAL_STATUS</th>\n",
       "      <th>ETHNICITY</th>\n",
       "      <th>GENDER</th>\n",
       "      <th>AGE</th>\n",
       "      <th>HR_MIN_DAY1</th>\n",
       "      <th>HR_MAX_DAY1</th>\n",
       "      <th>HR_MEAN_DAY1</th>\n",
       "      <th>...</th>\n",
       "      <th>Eyeinfectn</th>\n",
       "      <th>Othereyedx</th>\n",
       "      <th>Otitismedia</th>\n",
       "      <th>Dizziness</th>\n",
       "      <th>Othereardx</th>\n",
       "      <th>Othnervdx</th>\n",
       "      <th>Hrtvalvedx</th>\n",
       "      <th>Carditis</th>\n",
       "      <th>HTN</th>\n",
       "      <th>Htncomplicn</th>\n",
       "    </tr>\n",
       "  </thead>\n",
       "  <tbody>\n",
       "    <tr>\n",
       "      <th>0</th>\n",
       "      <td>0</td>\n",
       "      <td>0</td>\n",
       "      <td>0</td>\n",
       "      <td>0</td>\n",
       "      <td>0</td>\n",
       "      <td>0</td>\n",
       "      <td>21</td>\n",
       "      <td>57.21</td>\n",
       "      <td>108.7</td>\n",
       "      <td>70.84</td>\n",
       "      <td>...</td>\n",
       "      <td>0</td>\n",
       "      <td>0</td>\n",
       "      <td>0</td>\n",
       "      <td>0</td>\n",
       "      <td>0</td>\n",
       "      <td>0</td>\n",
       "      <td>0</td>\n",
       "      <td>0</td>\n",
       "      <td>0</td>\n",
       "      <td>0</td>\n",
       "    </tr>\n",
       "    <tr>\n",
       "      <th>1</th>\n",
       "      <td>0</td>\n",
       "      <td>0</td>\n",
       "      <td>1</td>\n",
       "      <td>1</td>\n",
       "      <td>0</td>\n",
       "      <td>1</td>\n",
       "      <td>39</td>\n",
       "      <td>79.33</td>\n",
       "      <td>121.1</td>\n",
       "      <td>96.92</td>\n",
       "      <td>...</td>\n",
       "      <td>0</td>\n",
       "      <td>0</td>\n",
       "      <td>0</td>\n",
       "      <td>0</td>\n",
       "      <td>0</td>\n",
       "      <td>0</td>\n",
       "      <td>0</td>\n",
       "      <td>0</td>\n",
       "      <td>0</td>\n",
       "      <td>1</td>\n",
       "    </tr>\n",
       "    <tr>\n",
       "      <th>2</th>\n",
       "      <td>1</td>\n",
       "      <td>1</td>\n",
       "      <td>0</td>\n",
       "      <td>2</td>\n",
       "      <td>1</td>\n",
       "      <td>1</td>\n",
       "      <td>40</td>\n",
       "      <td>118.2</td>\n",
       "      <td>175.2</td>\n",
       "      <td>140.9</td>\n",
       "      <td>...</td>\n",
       "      <td>0</td>\n",
       "      <td>0</td>\n",
       "      <td>0</td>\n",
       "      <td>0</td>\n",
       "      <td>0</td>\n",
       "      <td>0</td>\n",
       "      <td>0</td>\n",
       "      <td>0</td>\n",
       "      <td>0</td>\n",
       "      <td>0</td>\n",
       "    </tr>\n",
       "  </tbody>\n",
       "</table>\n",
       "<p>3 rows × 337 columns</p>\n",
       "</div>"
      ],
      "text/plain": [
       "   INSURANCE  LANGUAGE  RELIGION  MARITAL_STATUS  ETHNICITY  GENDER  AGE  \\\n",
       "0          0         0         0               0          0       0   21   \n",
       "1          0         0         1               1          0       1   39   \n",
       "2          1         1         0               2          1       1   40   \n",
       "\n",
       "   HR_MIN_DAY1  HR_MAX_DAY1  HR_MEAN_DAY1  ...  Eyeinfectn  Othereyedx  \\\n",
       "0        57.21        108.7         70.84  ...           0           0   \n",
       "1        79.33        121.1         96.92  ...           0           0   \n",
       "2        118.2        175.2         140.9  ...           0           0   \n",
       "\n",
       "   Otitismedia  Dizziness  Othereardx  Othnervdx  Hrtvalvedx  Carditis  HTN  \\\n",
       "0            0          0           0          0           0         0    0   \n",
       "1            0          0           0          0           0         0    0   \n",
       "2            0          0           0          0           0         0    0   \n",
       "\n",
       "   Htncomplicn  \n",
       "0            0  \n",
       "1            1  \n",
       "2            0  \n",
       "\n",
       "[3 rows x 337 columns]"
      ]
     },
     "execution_count": 34,
     "metadata": {},
     "output_type": "execute_result"
    }
   ],
   "source": [
    "x_fact_df.head(3)"
   ]
  },
  {
   "cell_type": "code",
   "execution_count": 35,
   "metadata": {},
   "outputs": [
    {
     "data": {
      "text/html": [
       "<div>\n",
       "<style scoped>\n",
       "    .dataframe tbody tr th:only-of-type {\n",
       "        vertical-align: middle;\n",
       "    }\n",
       "\n",
       "    .dataframe tbody tr th {\n",
       "        vertical-align: top;\n",
       "    }\n",
       "\n",
       "    .dataframe thead th {\n",
       "        text-align: right;\n",
       "    }\n",
       "</style>\n",
       "<table border=\"1\" class=\"dataframe\">\n",
       "  <thead>\n",
       "    <tr style=\"text-align: right;\">\n",
       "      <th></th>\n",
       "      <th>INSURANCE</th>\n",
       "      <th>LANGUAGE</th>\n",
       "      <th>RELIGION</th>\n",
       "      <th>MARITAL_STATUS</th>\n",
       "      <th>ETHNICITY</th>\n",
       "      <th>GENDER</th>\n",
       "      <th>AGE</th>\n",
       "      <th>HR_MIN_DAY1</th>\n",
       "      <th>HR_MAX_DAY1</th>\n",
       "      <th>HR_MEAN_DAY1</th>\n",
       "      <th>...</th>\n",
       "      <th>Eyeinfectn</th>\n",
       "      <th>Othereyedx</th>\n",
       "      <th>Otitismedia</th>\n",
       "      <th>Dizziness</th>\n",
       "      <th>Othereardx</th>\n",
       "      <th>Othnervdx</th>\n",
       "      <th>Hrtvalvedx</th>\n",
       "      <th>Carditis</th>\n",
       "      <th>HTN</th>\n",
       "      <th>Htncomplicn</th>\n",
       "    </tr>\n",
       "  </thead>\n",
       "  <tbody>\n",
       "    <tr>\n",
       "      <th>0</th>\n",
       "      <td>3</td>\n",
       "      <td>0</td>\n",
       "      <td>5</td>\n",
       "      <td>3</td>\n",
       "      <td>0</td>\n",
       "      <td>0</td>\n",
       "      <td>18</td>\n",
       "      <td>72.64</td>\n",
       "      <td>112.7</td>\n",
       "      <td>96.46</td>\n",
       "      <td>...</td>\n",
       "      <td>0</td>\n",
       "      <td>0</td>\n",
       "      <td>0</td>\n",
       "      <td>0</td>\n",
       "      <td>0</td>\n",
       "      <td>0</td>\n",
       "      <td>0</td>\n",
       "      <td>0</td>\n",
       "      <td>0</td>\n",
       "      <td>0</td>\n",
       "    </tr>\n",
       "    <tr>\n",
       "      <th>1</th>\n",
       "      <td>2</td>\n",
       "      <td>0</td>\n",
       "      <td>2</td>\n",
       "      <td>1</td>\n",
       "      <td>3</td>\n",
       "      <td>0</td>\n",
       "      <td>56</td>\n",
       "      <td>66.61</td>\n",
       "      <td>106.8</td>\n",
       "      <td>83.85</td>\n",
       "      <td>...</td>\n",
       "      <td>0</td>\n",
       "      <td>0</td>\n",
       "      <td>0</td>\n",
       "      <td>0</td>\n",
       "      <td>0</td>\n",
       "      <td>0</td>\n",
       "      <td>0</td>\n",
       "      <td>0</td>\n",
       "      <td>1</td>\n",
       "      <td>0</td>\n",
       "    </tr>\n",
       "    <tr>\n",
       "      <th>2</th>\n",
       "      <td>1</td>\n",
       "      <td>0</td>\n",
       "      <td>0</td>\n",
       "      <td>1</td>\n",
       "      <td>0</td>\n",
       "      <td>1</td>\n",
       "      <td>32</td>\n",
       "      <td>69.72</td>\n",
       "      <td>102.7</td>\n",
       "      <td>87.26</td>\n",
       "      <td>...</td>\n",
       "      <td>0</td>\n",
       "      <td>0</td>\n",
       "      <td>0</td>\n",
       "      <td>0</td>\n",
       "      <td>0</td>\n",
       "      <td>0</td>\n",
       "      <td>0</td>\n",
       "      <td>0</td>\n",
       "      <td>0</td>\n",
       "      <td>0</td>\n",
       "    </tr>\n",
       "  </tbody>\n",
       "</table>\n",
       "<p>3 rows × 337 columns</p>\n",
       "</div>"
      ],
      "text/plain": [
       "   INSURANCE  LANGUAGE  RELIGION  MARITAL_STATUS  ETHNICITY  GENDER  AGE  \\\n",
       "0          3         0         5               3          0       0   18   \n",
       "1          2         0         2               1          3       0   56   \n",
       "2          1         0         0               1          0       1   32   \n",
       "\n",
       "   HR_MIN_DAY1  HR_MAX_DAY1  HR_MEAN_DAY1  ...  Eyeinfectn  Othereyedx  \\\n",
       "0        72.64        112.7         96.46  ...           0           0   \n",
       "1        66.61        106.8         83.85  ...           0           0   \n",
       "2        69.72        102.7         87.26  ...           0           0   \n",
       "\n",
       "   Otitismedia  Dizziness  Othereardx  Othnervdx  Hrtvalvedx  Carditis  HTN  \\\n",
       "0            0          0           0          0           0         0    0   \n",
       "1            0          0           0          0           0         0    1   \n",
       "2            0          0           0          0           0         0    0   \n",
       "\n",
       "   Htncomplicn  \n",
       "0            0  \n",
       "1            0  \n",
       "2            0  \n",
       "\n",
       "[3 rows x 337 columns]"
      ]
     },
     "execution_count": 35,
     "metadata": {},
     "output_type": "execute_result"
    }
   ],
   "source": [
    "x_test_fact_df.head(3)"
   ]
  },
  {
   "cell_type": "markdown",
   "metadata": {},
   "source": [
    "#### Encodage 1-Hot\n",
    "\n",
    "Un autre type d'encodage est souvent plus efficace, il a notamment l'avantage de ne pas ordonner les classes d'une manière particulière (pas forcément en adéquation avec la proximité de ces classes entre elles).\n",
    "\n",
    "Une méthode de pandas permet de le réaliser en 1 ligne de code avec la fonction `get_dummies`."
   ]
  },
  {
   "cell_type": "code",
   "execution_count": 36,
   "metadata": {},
   "outputs": [
    {
     "data": {
      "text/plain": [
       "{'DIVORCED': 0,\n",
       " 'SINGLE': 1,\n",
       " 'WIDOWED': 2,\n",
       " 'MARRIED': 3,\n",
       " 'UNKNOWN_(DEFAULT)': 4,\n",
       " 'SEPARATED': 5,\n",
       " 'LIFE_PARTNER': 6}"
      ]
     },
     "execution_count": 36,
     "metadata": {},
     "output_type": "execute_result"
    }
   ],
   "source": [
    "codes, uniques = pd.factorize(x_df[\"MARITAL_STATUS\"])\n",
    "cat2code = {k: v for v, k in enumerate(uniques)}\n",
    "cat2code"
   ]
  },
  {
   "cell_type": "markdown",
   "metadata": {},
   "source": [
    "Exemple d'encodage 1-hot avec la fonction `get_dummies` de pandas (pour MARITAL_STATUS) :\n",
    "\n",
    "|    |   DIVORCED |   LIFE_PARTNER |   MARRIED |   SEPARATED |   SINGLE |   UNKNOWN_(DEFAULT) |   WIDOWED |\n",
    "|---:|-----------:|---------------:|----------:|------------:|---------:|--------------------:|----------:|\n",
    "|  0 |          1 |              0 |         0 |           0 |        0 |                   0 |         0 |\n",
    "|  1 |          0 |              0 |         0 |           0 |        1 |                   0 |         0 |\n",
    "|  2 |          0 |              0 |         0 |           0 |        0 |                   0 |         1 |\n",
    "|  3 |          0 |              0 |         1 |           0 |        0 |                   0 |         0 |\n",
    "|  4 |          0 |              0 |         1 |           0 |        0 |                   0 |         0 |"
   ]
  },
  {
   "cell_type": "code",
   "execution_count": 37,
   "metadata": {},
   "outputs": [
    {
     "name": "stdout",
     "output_type": "stream",
     "text": [
      "(79999, 337) (20001, 337)\n",
      "(79999, 425) (20001, 425)\n"
     ]
    }
   ],
   "source": [
    "# Encode binary features on a single column (no need for 1-hot)\n",
    "label_encode(x_df, x_test_df, only_binary=True)\n",
    "\n",
    "x_all_1hot_df = pd.get_dummies(pd.concat([x_df, x_test_df]))\n",
    "\n",
    "x_1hot_df = x_all_1hot_df.iloc[:len(x_df)].copy()\n",
    "x_test_1hot_df = x_all_1hot_df.iloc[len(x_df):].copy()\n",
    "\n",
    "print(x_df.shape, x_test_df.shape)\n",
    "print(x_1hot_df.shape, x_test_1hot_df.shape)"
   ]
  },
  {
   "cell_type": "markdown",
   "metadata": {},
   "source": [
    "#### Suppression des variables à valeur unique (constantes)"
   ]
  },
  {
   "cell_type": "code",
   "execution_count": 38,
   "metadata": {},
   "outputs": [
    {
     "data": {
      "text/plain": [
       "173"
      ]
     },
     "execution_count": 38,
     "metadata": {},
     "output_type": "execute_result"
    }
   ],
   "source": [
    "const_cols = {col for col in x_1hot_df if len(x_1hot_df[col].unique()) == 1}\n",
    "len(const_cols)"
   ]
  },
  {
   "cell_type": "code",
   "execution_count": 39,
   "metadata": {},
   "outputs": [
    {
     "name": "stdout",
     "output_type": "stream",
     "text": [
      "(79999, 252) (20001, 252)\n"
     ]
    }
   ],
   "source": [
    "x_1hot_df.drop(const_cols, axis=\"columns\", inplace=True)\n",
    "x_test_1hot_df.drop(const_cols, axis=\"columns\", inplace=True)\n",
    "\n",
    "print(x_1hot_df.shape, x_test_1hot_df.shape)"
   ]
  },
  {
   "cell_type": "markdown",
   "metadata": {},
   "source": [
    "### Création de l'ensemble de validation"
   ]
  },
  {
   "cell_type": "code",
   "execution_count": 40,
   "metadata": {},
   "outputs": [],
   "source": [
    "x_train, x_valid, y_train, y_valid = model_selection.train_test_split(\n",
    "    x_1hot_df, ys, test_size=0.3\n",
    ")\n",
    "# VARS: x_df, x_fact_df, x_1hot_df"
   ]
  },
  {
   "cell_type": "markdown",
   "metadata": {},
   "source": [
    "### Réduction de la dimension via l'ACP (PCA)"
   ]
  },
  {
   "cell_type": "markdown",
   "metadata": {},
   "source": [
    "Testez la PCA pour réduire le nombre de dimensions et voir si cela améliore le résultat.\n",
    "\n",
    "Avant d'appliquer la PCA, il est conseillé de centrer-réduire les données (e.g., via `preprocessing.StandardScaler()`)."
   ]
  },
  {
   "cell_type": "markdown",
   "metadata": {},
   "source": [
    "<span style=\"color:red\">\n",
    "    Répondre ci-dessous\n",
    "</span>"
   ]
  },
  {
   "cell_type": "code",
   "execution_count": 41,
   "metadata": {},
   "outputs": [],
   "source": [
    "# TODO: PCA\n",
    "\n",
    "# On commence par centrer-réduire les données\n",
    "\n",
    "scaled_data = preprocessing.StandardScaler().fit_transform(x_valid.T)\n",
    "\n",
    "pca = decomposition.PCA() # Crée le PCA\n",
    "pca.fit(scaled_data)      # Calcule la variation\n",
    "pca_data = pca.transform(scaled_data)   # Génere les coordonnées"
   ]
  },
  {
   "cell_type": "markdown",
   "metadata": {},
   "source": [
    "Proposez un graphique qui représente les 2 premières dimensions de la PCA et commentez succinctement."
   ]
  },
  {
   "cell_type": "markdown",
   "metadata": {},
   "source": [
    "<span style=\"color:red\">\n",
    "    Répondre ci-dessous\n",
    "</span>"
   ]
  },
  {
   "cell_type": "code",
   "execution_count": 42,
   "metadata": {},
   "outputs": [
    {
     "data": {
      "image/png": "[encoded data removed]",
      "text/plain": [
       "<Figure size 432x288 with 1 Axes>"
      ]
     },
     "metadata": {
      "image/png": {
       "height": 277,
       "width": 389
      },
      "needs_background": "light"
     },
     "output_type": "display_data"
    }
   ],
   "source": [
    "# TODO: Plot\n",
    "\n",
    "var_pourcentage = np.round(pca.explained_variance_ratio_*100, decimals=1)\n",
    "labels = [\"PC\" + str(i) for i in range(1,len(var_pourcentage)+1)]\n",
    "\n",
    "plt.bar(x=range(1,len(var_pourcentage)+1), height=var_pourcentage, tick_label = labels)\n",
    "plt.ylabel(\"Variance en %\")\n",
    "plt.xlabel(\"Dimension principale\")\n",
    "plt.title(\"Graphe de variance globale\")\n",
    "plt.show()\n"
   ]
  },
  {
   "cell_type": "code",
   "execution_count": 43,
   "metadata": {},
   "outputs": [
    {
     "data": {
      "image/png": "[encoded data removed]",
      "text/plain": [
       "<Figure size 432x288 with 1 Axes>"
      ]
     },
     "metadata": {
      "image/png": {
       "height": 277,
       "width": 390
      },
      "needs_background": "light"
     },
     "output_type": "display_data"
    }
   ],
   "source": [
    "# On remarque que la quasi-totalité de la variation est sur la première composantes\n",
    "# On va donc créer un graphe entre les deux premiers composants\n",
    "\n",
    "pca_df = pd.DataFrame(pca_data, columns = labels)\n",
    "\n",
    "plt.scatter(pca_df.PC1, pca_df.PC2)\n",
    "plt.title(\"Graphe PCA\")\n",
    "plt.xlabel(\"Première Dimension - {0}%\".format(var_pourcentage[0]))\n",
    "plt.ylabel(\"Seconde Dimension - {0}%\".format(var_pourcentage[1]))\n",
    "plt.show()"
   ]
  },
  {
   "cell_type": "markdown",
   "metadata": {},
   "source": [
    "<span style=\"color:red\">\n",
    "    Utiliser des cellules markdown pour ajouter des commentaires\n",
    "</span>"
   ]
  },
  {
   "cell_type": "markdown",
   "metadata": {},
   "source": [
    "Comme on peut le voir sur le graphe ci dessus, 97,5% de la variation s'observe sur les deux premières composantes"
   ]
  },
  {
   "cell_type": "markdown",
   "metadata": {},
   "source": [
    "## 5. Modèles de classification\n",
    "\n",
    "Entrainez le modèle"
   ]
  },
  {
   "cell_type": "markdown",
   "metadata": {},
   "source": [
    "### Baseline\n",
    "\n",
    "`LogisticRegression` or `RandomForestClassifier`"
   ]
  },
  {
   "cell_type": "code",
   "execution_count": 44,
   "metadata": {},
   "outputs": [],
   "source": [
    "SCORINGS = \"balanced_accuracy\""
   ]
  },
  {
   "cell_type": "markdown",
   "metadata": {},
   "source": [
    "<span style=\"color:red\">\n",
    "    Répondre ci-dessous\n",
    "</span>"
   ]
  },
  {
   "cell_type": "code",
   "execution_count": 45,
   "metadata": {},
   "outputs": [
    {
     "data": {
      "text/plain": [
       "RandomForestClassifier(n_estimators=10)"
      ]
     },
     "execution_count": 45,
     "metadata": {},
     "output_type": "execute_result"
    }
   ],
   "source": [
    "# model = linear_model.LogisticRegression(max_iter=10000)\n",
    "model = ensemble.RandomForestClassifier(n_estimators=10)\n",
    "\n",
    "# TODO: Try other models\n",
    "\n",
    "model.fit(x_train, y_train)  # training"
   ]
  },
  {
   "cell_type": "code",
   "execution_count": 46,
   "metadata": {},
   "outputs": [],
   "source": [
    "# On va tester plusieurs models\n",
    "\n",
    "nom = [\"ensemble.RandomForestClassifier\",\"ensemble.GradientBoostingClassifier\",\n",
    "       \"ensemble.ExtraTreesClassifier\",\"ensemble.BaggingClassifier\", \n",
    "       \"naive_bayes.MultinomialNB\",\"naive_bayes.GaussianNB\", 'naive_bayes.BernoulliNB()']\n",
    "\n",
    "classifiers = [\n",
    "    ensemble.RandomForestClassifier(n_estimators = 10),\n",
    "    ensemble.GradientBoostingClassifier(),\n",
    "    ensemble.ExtraTreesClassifier(),\n",
    "    ensemble.BaggingClassifier(),\n",
    "    naive_bayes.MultinomialNB()\n",
    "]"
   ]
  },
  {
   "cell_type": "markdown",
   "metadata": {},
   "source": [
    "## 6. Évaluations"
   ]
  },
  {
   "cell_type": "code",
   "execution_count": 47,
   "metadata": {
    "scrolled": true
   },
   "outputs": [
    {
     "name": "stdout",
     "output_type": "stream",
     "text": [
      "Balanced accuracy score model: 0.501\n"
     ]
    },
    {
     "data": {
      "text/plain": [
       "0    23162\n",
       "1      838\n",
       "dtype: int64"
      ]
     },
     "execution_count": 47,
     "metadata": {},
     "output_type": "execute_result"
    }
   ],
   "source": [
    "y_pred = model.predict(x_valid)  # predictions\n",
    "\n",
    "score = metrics.balanced_accuracy_score(y_valid, y_pred)  # scoring\n",
    "\n",
    "print(f\"Balanced accuracy score model: {score:.3g}\")\n",
    "y_valid.value_counts()"
   ]
  },
  {
   "cell_type": "code",
   "execution_count": 48,
   "metadata": {},
   "outputs": [],
   "source": [
    "# On calcule le balanced_accuracy_score de chaque model pour des paramètres définits\n",
    "\n",
    "scores = []\n",
    "for nom, model in zip(nom, classifiers):\n",
    "    model.fit(x_train,y_train)\n",
    "    y_pred = model.predict(x_valid)\n",
    "    score = metrics.balanced_accuracy_score(y_valid, y_pred)\n",
    "    scores.append(score)"
   ]
  },
  {
   "cell_type": "code",
   "execution_count": 49,
   "metadata": {},
   "outputs": [
    {
     "data": {
      "text/plain": [
       "[0.49995685563896797,\n",
       " 0.5053924152843151,\n",
       " 0.5,\n",
       " 0.5026314911006095,\n",
       " 0.6189858492794262]"
      ]
     },
     "execution_count": 49,
     "metadata": {},
     "output_type": "execute_result"
    }
   ],
   "source": [
    "scores"
   ]
  },
  {
   "cell_type": "markdown",
   "metadata": {},
   "source": [
    "### Code : Cross-Validation\n",
    "\n",
    "Le code ci-dessus utilise une méthode simple (*hold out*) pour mesurer le score de validation. Utilisez la validation croisée (pour obtenir une estimation plus fiable) combinée à l'exploration des hyperparamètres (pour améliorer les résultats).\n",
    "\n",
    "Vous pouvez changer la valeur du nombre de validation croisée (CV) selon la valeur de l'erreur et le temps d'entrainement des modèles (compromis)."
   ]
  },
  {
   "cell_type": "code",
   "execution_count": 48,
   "metadata": {
    "tags": []
   },
   "outputs": [],
   "source": [
    "CV = 10\n",
    "SCORING = \"balanced_accuracy\""
   ]
  },
  {
   "cell_type": "code",
   "execution_count": 55,
   "metadata": {},
   "outputs": [
    {
     "name": "stdout",
     "output_type": "stream",
     "text": [
      "Wall time: 3min 17s\n"
     ]
    },
    {
     "data": {
      "text/plain": [
       "array([0.5, 0.5, 0.5, 0.5, 0.5, 0.5, 0.5, 0.5, 0.5, 0.5])"
      ]
     },
     "execution_count": 55,
     "metadata": {},
     "output_type": "execute_result"
    }
   ],
   "source": [
    "%%time\n",
    "model_selection.cross_val_score(ensemble.RandomForestClassifier(), x_train, y_train,\n",
    "                               cv=CV, scoring=SCORING)"
   ]
  },
  {
   "cell_type": "code",
   "execution_count": 54,
   "metadata": {},
   "outputs": [
    {
     "name": "stdout",
     "output_type": "stream",
     "text": [
      "Wall time: 1min 25s\n"
     ]
    },
    {
     "data": {
      "text/plain": [
       "array([0.5, 0.5, 0.5, 0.5, 0.5])"
      ]
     },
     "execution_count": 54,
     "metadata": {},
     "output_type": "execute_result"
    }
   ],
   "source": [
    "%%time\n",
    "model_selection.cross_val_score(ensemble.RandomForestClassifier(), x_train, y_train,\n",
    "                               cv=5, scoring=SCORING)"
   ]
  },
  {
   "cell_type": "markdown",
   "metadata": {},
   "source": [
    "La ligne \"%%time\" dans les deux cellules ci dessus montrent leur temps d'execution. On voit ici que mettre le cv à 5 réduit considérablement le temps d'execution et facilite donc l'étude des hyperparamètres. On va donc placer à 5 la valeur du cv pour le modèle de RandomForestClassifier."
   ]
  },
  {
   "cell_type": "markdown",
   "metadata": {},
   "source": [
    "On a décidé d'utiliser le modèle MultinomialNB car sa balanced accuracy est la plus élevée des modèles que nous avons sélectionnés et de plus suite a des recherches on a vu qu'il était utilisé dans des cas d'études similaires à la notre."
   ]
  },
  {
   "cell_type": "code",
   "execution_count": 55,
   "metadata": {},
   "outputs": [
    {
     "name": "stdout",
     "output_type": "stream",
     "text": [
      "Fitting 10 folds for each of 7 candidates, totalling 70 fits\n",
      "Train Accuracy : 0.784\n",
      "Test Accuracy : 0.782\n",
      "Best Accuracy Through Grid Search : 0.635\n",
      "Best Parameters :  {'alpha': 0.001}\n"
     ]
    }
   ],
   "source": [
    "# On cherche les meilleurs hyperparamètres pour MultinomialNB\n",
    "model = naive_bayes.MultinomialNB()\n",
    "model.fit(x_train,y_train)\n",
    "\n",
    "y_pred = model.predict(x_valid)\n",
    "\n",
    "params = {\n",
    "    'alpha' : [ 0.0001, 0.001, 0.01, 0.1,  0.5, 1, 10 ]\n",
    "    }\n",
    "\n",
    "grid = model_selection.GridSearchCV(naive_bayes.MultinomialNB(), param_grid=params, n_jobs=-1, cv=CV, scoring=SCORING, verbose=5)\n",
    "grid.fit(x_1hot_df,ys)\n",
    "\n",
    "print('Train Accuracy : %.3f'%grid.best_estimator_.score(x_train, y_train))\n",
    "print('Test Accuracy : %.3f'%grid.best_estimator_.score(x_valid, y_valid))\n",
    "print('Best Accuracy Through Grid Search : %.3f'%grid.best_score_)\n",
    "print('Best Parameters : ',grid.best_params_)"
   ]
  },
  {
   "cell_type": "code",
   "execution_count": null,
   "metadata": {},
   "outputs": [
    {
     "name": "stdout",
     "output_type": "stream",
     "text": [
      "Fitting 5 folds for each of 100 candidates, totalling 500 fits\n"
     ]
    }
   ],
   "source": [
    "# On cherche les meilleurs hyperparamètres pour RandomForestClassifier\n",
    "model = ensemble.RandomForestClassifier()\n",
    "model.fit(x_train,y_train)\n",
    "\n",
    "y_pred = model.predict(x_valid)\n",
    "\n",
    "params = {\n",
    "    'n_estimators' : np.arange(10,200,20),\n",
    "    'max_depth' : np.arange(10, 200, 20),\n",
    "    }\n",
    "\n",
    "grid = model_selection.GridSearchCV(ensemble.RandomForestClassifier(), param_grid=params, n_jobs=-1, cv=5, scoring=SCORING, verbose=5)\n",
    "grid.fit(x_1hot_df,ys)\n",
    "\n",
    "print('Train Accuracy : %.3f'%grid.best_estimator_.score(x_train, y_train))\n",
    "print('Test Accuracy : %.3f'%grid.best_estimator_.score(x_valid, y_valid))\n",
    "print('Best Accuracy Through Grid Search : %.3f'%grid.best_score_)\n",
    "print('Best Parameters : ',grid.best_params_)"
   ]
  },
  {
   "cell_type": "markdown",
   "metadata": {},
   "source": [
    "<span style=\"color:red\">\n",
    "    Répondre ci-dessous\n",
    "</span>"
   ]
  },
  {
   "cell_type": "markdown",
   "metadata": {},
   "source": [
    "#### Avant:\n",
    "**Pour au moins 2 modèles (autres que les baselines) :**\n",
    "\n",
    "* Donnez les résultats de la cross-validation ou du grid search sous forme de Boxplot (ou de diagramme à bâtons) pour:\n",
    "\n",
    "    * La précision\n",
    "    \n",
    "    * Le rappel\n",
    "    \n",
    "    * Le f1-score\n",
    "    \n",
    "    * La `balanced_accuracy`\n",
    "\n",
    "\n",
    "* Réalisez la matrice de confusion sur les prédictions (binaires) et décrivez la succinctement \n",
    "\n",
    "* Mesurez l'aire sous la courbe ROC (AUC) à l'aide de la fonction de Scikit-Learn (`roc_auc_score`) et comparez les modèles"
   ]
  },
  {
   "cell_type": "markdown",
   "metadata": {
    "tags": []
   },
   "source": [
    "#### Après:\n",
    "* **Pour 2 des modèles** (au moins 1 autre que les 2 proposés en baselines) :\n",
    "\n",
    "    * Pour différentes valeurs d'un des hyperparamètres, donnez les `balanced_accuracy` moyennes de la validation croisée sous forme de Boxplots (ou de diagramme à bâtons avec une barre d'erreur) : voir l'exemple présenté dans le graphique ci-dessous. \n",
    "    \n",
    "    * Explicitez succinctement quelles observations en tirer concernant la stabilité des prédictions.\n",
    "\n",
    "![](img/boxplot-cv.png)"
   ]
  },
  {
   "cell_type": "markdown",
   "metadata": {},
   "source": [
    "<span style=\"color:red\">\n",
    "    Répondre ci-dessous\n",
    "</span>"
   ]
  },
  {
   "cell_type": "code",
   "execution_count": 64,
   "metadata": {},
   "outputs": [],
   "source": [
    "# On regarde le modèle RandomForestClassifier\n",
    "# On choisi de regarder l'hyperparamètre \"max_depth\"\n",
    "test_values = np.arange(10,71,10)\n",
    "values = []\n",
    "for x in range(len(test_values)):\n",
    "    values.append([])\n",
    "    \n",
    "    # On calcule le cross_val_score pour différentes valeurs\n",
    "    \n",
    "    for i in test_values:\n",
    "        model = ensemble.RandomForestClassifier(n_estimators=1, max_depth = i)\n",
    "        model.fit(x_train, y_train)\n",
    "        y_pred = model.predict(x_train)\n",
    "        score = model_selection.cross_val_score(ensemble.RandomForestClassifier(n_estimators=1, max_depth = i), x_train, y_train, cv=CV, scoring = SCORING).mean()\n",
    "        values[x].append(score)\n",
    "\n",
    "# On met ces valeurs dans une liste afin de pourvoir étudier leur variation\n",
    "res = []       \n",
    "for i in range(len(values)):\n",
    "    res.append([])\n",
    "    for j in range(len(values[i])):\n",
    "        res[i].append(values[j][i])"
   ]
  },
  {
   "cell_type": "code",
   "execution_count": 65,
   "metadata": {
    "scrolled": true
   },
   "outputs": [
    {
     "data": {
      "text/plain": [
       "Text(0.5, 1.0, 'RandomForestClassifier')"
      ]
     },
     "execution_count": 65,
     "metadata": {},
     "output_type": "execute_result"
    },
    {
     "data": {
      "image/png": "[encoded data removed]",
      "text/plain": [
       "<Figure size 720x576 with 1 Axes>"
      ]
     },
     "metadata": {
      "image/png": {
       "height": 506,
       "width": 627
      },
      "needs_background": "light"
     },
     "output_type": "display_data"
    }
   ],
   "source": [
    "# On réalise un graphe de ces variations\n",
    "\n",
    "fig1, ax = plt.subplots(figsize = (10,8))\n",
    "ax.boxplot(res)\n",
    "ax.yaxis.grid(True, linestyle='-', which='major', color='grey',alpha=0.5)\n",
    "ax.xaxis.grid(True, linestyle='-', which='major', color='grey',alpha=0.5)\n",
    "ax.set_ylabel('cross_val_score', fontsize = 15)\n",
    "ax.set_xlabel('max_depth values', fontsize = 15)\n",
    "ax.set_xticklabels(test_values)\n",
    "ax.set_title('RandomForestClassifier', fontsize = 20)"
   ]
  },
  {
   "cell_type": "markdown",
   "metadata": {},
   "source": [
    "On voit que le score de cross_val_score pour le modèle RandomForestClassifier se stabilise lorsque la valeur pe l'hyperparamètre max_depth dépasse 30."
   ]
  },
  {
   "cell_type": "code",
   "execution_count": 58,
   "metadata": {},
   "outputs": [],
   "source": [
    "# On regarde le modèle MultinomialNB\n",
    "# On choisi de regarder l'hyperparamètre \"alpha\"\n",
    "test_values = [0.0001, 0.0005, 0.001, 0.005, 0.01, 0.05, 0.1, 1, 1.5, 2, 5]\n",
    "values = []\n",
    "for x in range(len(test_values)):\n",
    "    values.append([])\n",
    "    \n",
    "    # On calcule le cross_val_score pour différentes valeurs\n",
    "    \n",
    "    for i in test_values:\n",
    "        model = naive_bayes.MultinomialNB(alpha = i)\n",
    "        model.fit(x_train, y_train)\n",
    "        y_pred = model.predict(x_train)\n",
    "        score = model_selection.cross_val_score(naive_bayes.MultinomialNB(alpha = i), x_train, y_train, cv=CV, scoring = SCORING).mean()\n",
    "        values[x].append(score)\n",
    "\n",
    "# On met ces valeurs dans une liste afin de pourvoir étudier leur variation\n",
    "res = []       \n",
    "for i in range(len(values)):\n",
    "    res.append([])\n",
    "    for j in range(len(values[i])):\n",
    "        res[i].append(values[j][i])"
   ]
  },
  {
   "cell_type": "code",
   "execution_count": 59,
   "metadata": {},
   "outputs": [
    {
     "data": {
      "text/plain": [
       "Text(0.5, 1.0, 'MultinomialNB')"
      ]
     },
     "execution_count": 59,
     "metadata": {},
     "output_type": "execute_result"
    },
    {
     "data": {
      "image/png": "[encoded data removed]",
      "text/plain": [
       "<Figure size 720x576 with 1 Axes>"
      ]
     },
     "metadata": {
      "image/png": {
       "height": 505,
       "width": 633
      },
      "needs_background": "light"
     },
     "output_type": "display_data"
    }
   ],
   "source": [
    "# On réalise un graphe de ces variations\n",
    "\n",
    "fig1, ax = plt.subplots(figsize = (10,8))\n",
    "ax.boxplot(res)\n",
    "ax.yaxis.grid(True, linestyle='-', which='major', color='grey',alpha=0.5)\n",
    "ax.xaxis.grid(True, linestyle='-', which='major', color='grey',alpha=0.5)\n",
    "ax.set_ylabel('cross_val_score', fontsize = 15)\n",
    "ax.set_xlabel('alpha values', fontsize = 15)\n",
    "ax.set_xticklabels([0.0001, 0.0005, 0.001, 0.005, 0.01, 0.05, 0.1, 1, 1.5, 2, 5])\n",
    "ax.set_title('MultinomialNB', fontsize = 20)"
   ]
  },
  {
   "cell_type": "markdown",
   "metadata": {},
   "source": [
    "<span style=\"color:red\">\n",
    "    Utiliser des cellules markdown pour ajouter des commentaires\n",
    "</span>"
   ]
  },
  {
   "cell_type": "markdown",
   "metadata": {},
   "source": [
    "Le modèle MultinomialNB se base sur une équation ce qui explique que les valeurs de cross_val_score du graphe sont les mêmes à chaque itération pour la même valeur d'alpha. Contrairement à RandomForestClassifier ou le cross_val_score varie d'une itération à l'autre. On voit que la valeur de cross_val_score du modèle MultinomialNB est la plus haute lorsque la valeur de l'hyperparamètre alpha est autour de 1."
   ]
  },
  {
   "cell_type": "markdown",
   "metadata": {},
   "source": [
    "* **Pour chacun de ces 2 modèles, à partir des données de validation créées précédemment** (`x_valid`, `y_valid`) :\n",
    "\n",
    "    * Mesurez l'aire sous la courbe ROC (AUC) à l'aide de la fonction de Scikit-Learn (`roc_auc_score`) et comparez les modèles avec leur combinaison respective d'hyperparamètres offrant le meilleur résultat."
   ]
  },
  {
   "cell_type": "code",
   "execution_count": 72,
   "metadata": {},
   "outputs": [
    {
     "name": "stdout",
     "output_type": "stream",
     "text": [
      "RandomForestClassifier optimisé : AUROC = 0.626\n",
      "RandomForestClassifier non optimisé : AUROC = 0.730\n"
     ]
    }
   ],
   "source": [
    "# TODO: ROC\n",
    "# On nome les deux modèles de RandomForestClassifier, RFCopti pour le modèle ayant les hyperparamètres optimaux \n",
    "# et RFC pour le modèle de base\n",
    "RFCopti = ensemble.RandomForestClassifier(max_depth = 50, max_features = 'auto', min_samples_leaf = 1\n",
    "                                      , min_samples_split = 2, n_estimators = 10)\n",
    "RFC = ensemble.RandomForestClassifier()\n",
    "RFCopti.fit(x_train, y_train)\n",
    "RFC.fit(x_train,y_train)\n",
    "\n",
    "# On cherche la probabilité des modèles\n",
    "RFCopti_pred = RFCopti.predict_proba(x_valid)\n",
    "RFC_pred = RFC.predict_proba(x_valid)\n",
    "\n",
    "# On garde uniquement les valeurs positives\n",
    "RFCopti_pred = RFCopti_pred[:, 1]\n",
    "RFC_pred = RFC_pred[:, 1]\n",
    "\n",
    "RFCopti_auc = metrics.roc_auc_score(y_valid, RFCopti_pred)\n",
    "RFC_auc = metrics.roc_auc_score(y_valid, RFC_pred)\n",
    "\n",
    "print('RandomForestClassifier optimisé : AUROC = %.3f'%(RFCopti_auc))\n",
    "print('RandomForestClassifier non optimisé : AUROC = %.3f'%(RFC_auc))"
   ]
  },
  {
   "cell_type": "code",
   "execution_count": 74,
   "metadata": {},
   "outputs": [
    {
     "name": "stdout",
     "output_type": "stream",
     "text": [
      "RandomForestClassifier optimisé : AUROC = 0.681\n",
      "RandomForestClassifier non optimisé : AUROC = 0.679\n"
     ]
    }
   ],
   "source": [
    "MNBopti = naive_bayes.MultinomialNB(alpha = 0.001)\n",
    "MNB = naive_bayes.MultinomialNB()\n",
    "\n",
    "MNBopti.fit(x_train, y_train)\n",
    "MNB.fit(x_train,y_train)\n",
    "\n",
    "# On cherche la probabilité des modèles\n",
    "MNBopti_pred = MNBopti.predict_proba(x_valid)\n",
    "MNB_pred = MNB.predict_proba(x_valid)\n",
    "\n",
    "# On garde uniquement les valeurs positives\n",
    "MNBopti_pred = MNBopti_pred[:, 1]\n",
    "MNB_pred = MNB_pred[:, 1]\n",
    "\n",
    "MNBopti_auc = metrics.roc_auc_score(y_valid, MNBopti_pred)\n",
    "MNB_auc = metrics.roc_auc_score(y_valid, MNB_pred)\n",
    "\n",
    "print('RandomForestClassifier optimisé : AUROC = %.3f'%(MNBopti_auc))\n",
    "print('RandomForestClassifier non optimisé : AUROC = %.3f'%(MNB_auc))"
   ]
  },
  {
   "cell_type": "markdown",
   "metadata": {},
   "source": [
    "<span style=\"color:red\">\n",
    "    Utiliser des cellules markdown pour ajouter des commentaires\n",
    "</span>"
   ]
  },
  {
   "cell_type": "markdown",
   "metadata": {},
   "source": [
    "* **Pour le modèle et sa combinaison d'hyperparamètres offrant le meilleur résultat** :\n",
    "\n",
    "    * Réalisez la matrice de confusion et décrivez-la succinctement."
   ]
  },
  {
   "cell_type": "code",
   "execution_count": null,
   "metadata": {},
   "outputs": [],
   "source": [
    "# TODO: Confusion Mtx"
   ]
  },
  {
   "cell_type": "markdown",
   "metadata": {},
   "source": [
    "<span style=\"color:red\">\n",
    "    Utiliser des cellules markdown pour ajouter des commentaires\n",
    "</span>"
   ]
  },
  {
   "cell_type": "markdown",
   "metadata": {},
   "source": []
  },
  {
   "cell_type": "markdown",
   "metadata": {},
   "source": [
    "### Code : Essayez d'améliorer votre score\n",
    "\n",
    "* Data augmentation (optionnel)\n",
    "#### Avant\n",
    "Vu le déséquilibre entre les classes à prédire (survive, died), on peut espérer améliorer le score en les rééquilibrant. Une approche typique est la génération de données (voir slides du cours 6). Une des méthodes de génération est implémentée dans le module `imblearn`.\n",
    "#### Après\n",
    "Vu le déséquilibre entre les classes à prédire (survive, died), on peut espérer améliorer le score en les rééquilibrant. Une approche typique est la génération de données (voir cours : `part-6-slides.pdf`). Une des méthodes de génération est [SMOTE](https://en.wikipedia.org/wiki/Oversampling_and_undersampling_in_data_analysis#SMOTE) (voir cours théorique), elle est notamment implémentée dans le module `imblearn`.\n",
    "\n",
    "`imblearn` a été développé pour s'interfacer facilement avec `sklearn`.\n",
    "Il propose notamment une version du `pipeline` qui permet l'intégration avec `sklearn`.\n",
    "\n",
    "Ci-dessous voici un exemple de `pipe` intégrant `imblearn` et `sklearn`."
   ]
  },
  {
   "cell_type": "markdown",
   "metadata": {},
   "source": [
    "<span style=\"color:red\">\n",
    "    Répondre ci-dessous\n",
    "</span>"
   ]
  },
  {
   "cell_type": "code",
   "execution_count": null,
   "metadata": {},
   "outputs": [],
   "source": [
    "'''# TODO: Data augmentation\n",
    "\n",
    "pipe = imblearn.pipeline.Pipeline(\n",
    "    [\n",
    "        (\"scale\", preprocessing.StandardScaler()),\n",
    "        (\"pca\", decomposition.PCA()),\n",
    "        (\"resample\", imblearn.over_sampling.SMOTE()),\n",
    "        (\"model\", model),\n",
    "    ]\n",
    ")'''"
   ]
  },
  {
   "cell_type": "markdown",
   "metadata": {},
   "source": [
    "### Explication de ce que vous avez réalisé, conclusion et perspectives"
   ]
  },
  {
   "cell_type": "markdown",
   "metadata": {},
   "source": [
    "* Commencez par donner votre meilleur résultat obtenu lors de vos soumissions\n",
    "\n",
    "* Expliquez le chemin qui vous y a conduit\n",
    "\n",
    "    * Ce que vous avez essayé :\n",
    "\n",
    "        * Ce qui a fonctionné\n",
    "\n",
    "        * Ce qui n'a pas fonctionné et comment vous l'avez solutionné\n",
    "\n",
    "    * Quelle méthode avez-vous utilisée pour choisir les hyperparamètres ?\n",
    "\n",
    "    * Comparer la durée d'entrainement des principaux modèles utilisés ?\n",
    "\n",
    "* Qu'auriez-vous fait si vous aviez eu plus de temps ?"
   ]
  },
  {
   "cell_type": "markdown",
   "metadata": {},
   "source": [
    "<span style=\"color:red\">\n",
    "    Répondre ci-dessous\n",
    "</span>"
   ]
  },
  {
   "cell_type": "markdown",
   "metadata": {},
   "source": []
  },
  {
   "cell_type": "markdown",
   "metadata": {},
   "source": [
    "### Question (optionnelle)\n",
    "\n",
    "* Qu'est-ce que le suréchantillonnage ? \n",
    "\n",
    "* En quoi pourrait-il être utile dans ce problème ?"
   ]
  },
  {
   "cell_type": "markdown",
   "metadata": {},
   "source": [
    "<span style=\"color:red\">\n",
    "    Répondre ci-dessous\n",
    "</span>"
   ]
  },
  {
   "cell_type": "markdown",
   "metadata": {},
   "source": []
  },
  {
   "cell_type": "markdown",
   "metadata": {},
   "source": [
    "## 7. Enregistrer les prédictions\n",
    "\n",
    "* Utilisez le code suivant pour faire des prédictions et pour les enregistrer sous forme de fichier ZIP\n",
    "* Soumettez ce fichier ZIP sur [le site du challenge](https://competitions.codalab.org/competitions/30715#participate-submit_results)\n",
    "(\"Participate > Submit/View Results > Submit\")\n",
    "* Faites de votre mieux pour être le ***premier sur le leaderboard !***"
   ]
  },
  {
   "cell_type": "markdown",
   "metadata": {},
   "source": [
    "<span style=\"color:red\">\n",
    "    !! Ne pas oublier de modifier la commande de la prédiction selon les données et modèles choisis !!\n",
    "</span>\n",
    "\n",
    "* Données : `x_test_fact_df`, `x_test_1hot_df`\n",
    "\n",
    "* Modèles : `model`, `search` (e.g., pour le `GridSearchCV`)"
   ]
  },
  {
   "cell_type": "code",
   "execution_count": null,
   "metadata": {},
   "outputs": [],
   "source": [
    "'''predictions = model.predict(x_test_1hot_df)  # compute predictions\n",
    "# VARS: x_test_df, x_test_fact_df, x_test_1hot_df, x_test_1hot_pcs\n",
    "# Models: model, search\n",
    "\n",
    "\n",
    "PRED_PATH.mkdir(parents=True, exist_ok=True)\n",
    "\n",
    "t_stamp = datetime.now().strftime(\"%Y-%m-%dT%H-%M-%S\")\n",
    "submission_fp = PRED_PATH / f\"submission_{t_stamp}.zip\"\n",
    "\n",
    "pred_fname = \"mimic_synthetic_test.csv\"\n",
    "compr_opts = dict(method=\"zip\", archive_name=pred_fname)\n",
    "\n",
    "pd.Series(predictions).to_csv(\n",
    "    submission_fp, compression=compr_opts, index=False, header=False\n",
    ")\n",
    "\n",
    "print(f\"The submission is ready: {submission_fp}\")'''"
   ]
  },
  {
   "cell_type": "markdown",
   "metadata": {},
   "source": [
    "---"
   ]
  },
  {
   "cell_type": "markdown",
   "metadata": {},
   "source": [
    "# Remarque sur le jeu de données\n",
    "\n",
    "Le jeu de données ne contient pas de données médicales réelles. Nous ne sommes pas autorisés à partager ces **données confidentielles** provenant de patients en soins intensifs. Pour éviter ce problème, les données ont été remplacées par des **données artificielles**.\n",
    "\n",
    "Afin d'avoir des données crédibles, elles ont été générées à l'aide d'un **Wasserstein GAN**.\n",
    "\n",
    "Pour plus d'informations, voici une référence : <br />\n",
    "[Privacy Preserving Synthetic Health Data](https://hal.inria.fr/hal-02160496/document) <br />\n",
    "Andrew Yale, Saloni Dash, Ritik Dutta, Isabelle Guyon, Adrien Pavao, Kristin Bennett <br />"
   ]
  },
  {
   "cell_type": "markdown",
   "metadata": {},
   "source": [
    "---"
   ]
  }
 ],
 "metadata": {
  "kernelspec": {
   "display_name": "Python 3",
   "language": "python",
   "name": "python3"
  },
  "language_info": {
   "codemirror_mode": {
    "name": "ipython",
    "version": 3
   },
   "file_extension": ".py",
   "mimetype": "text/x-python",
   "name": "python",
   "nbconvert_exporter": "python",
   "pygments_lexer": "ipython3",
   "version": "3.8.3"
  }
 },
 "nbformat": 4,
 "nbformat_minor": 4
}
